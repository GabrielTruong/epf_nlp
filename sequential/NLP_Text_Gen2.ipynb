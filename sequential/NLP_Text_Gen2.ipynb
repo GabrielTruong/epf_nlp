{
  "nbformat": 4,
  "nbformat_minor": 0,
  "metadata": {
    "accelerator": "GPU",
    "colab": {
      "name": "NLP_Text_Gen2.ipynb",
      "provenance": [],
      "collapsed_sections": [],
      "toc_visible": true
    },
    "kernelspec": {
      "display_name": "Python 3",
      "name": "python3"
    }
  },
  "cells": [
    {
      "cell_type": "markdown",
      "metadata": {
        "id": "mJpUakuOZ9Fr"
      },
      "source": [
        "# Text Generation\n",
        "\n",
        "In this example we will train a model using datasets from Kaggle."
      ]
    },
    {
      "cell_type": "markdown",
      "metadata": {
        "id": "5V5Kpq6MU2wn"
      },
      "source": [
        "# Imports"
      ]
    },
    {
      "cell_type": "code",
      "metadata": {
        "id": "BOwsuGQQY9OL"
      },
      "source": [
        "import tensorflow as tf\n",
        "\n",
        "from tensorflow.keras.preprocessing.sequence import pad_sequences\n",
        "from tensorflow.keras.layers import Embedding, LSTM, Dense, Bidirectional\n",
        "from tensorflow.keras.preprocessing.text import Tokenizer\n",
        "from tensorflow.keras.models import Sequential\n",
        "from tensorflow.keras.optimizers import Adam\n",
        "import numpy as np "
      ],
      "execution_count": 5,
      "outputs": []
    },
    {
      "cell_type": "markdown",
      "metadata": {
        "id": "RR4VZkAlU4Eb"
      },
      "source": [
        "# Datasets\n",
        "\n",
        "Kaggle provides a multitude of usefull datasets that we can use for our models.\n",
        "\n",
        "Some examples are:\n",
        "\n",
        "[Modern Renaissance Poetry](https://www.kaggle.com/ultrajack/modern-renaissance-poetry): Containing a dataset of poetry from Renaissance.\n",
        "\n",
        "[Poe Short Stories](https://www.kaggle.com/leangab/poe-short-stories-corpuscsv): Containing short stories from Edgar Allan Poe.\n",
        "\n",
        "[Song Lyrics](https://www.kaggle.com/paultimothymooney/poetry): With various TXT files with lyrics from song of various authors.\n",
        "\n"
      ]
    },
    {
      "cell_type": "markdown",
      "metadata": {
        "id": "0hMPY6T0Vtju"
      },
      "source": [
        "### Data used in this example\n",
        "\n",
        "In this example we will use [lyrics from lady gaga from the Song Lyrics Kaggle dataset](https://www.kaggle.com/paultimothymooney/poetry?select=lady-gaga.txt) that was just mentioned."
      ]
    },
    {
      "cell_type": "code",
      "metadata": {
        "id": "PRnDnCW-Z7qv",
        "colab": {
          "base_uri": "https://localhost:8080/"
        },
        "outputId": "5203b26f-2827-432b-ce44-a6418c63cf4b"
      },
      "source": [
        "tokenizer = Tokenizer()\n",
        "\n",
        "data = open('/content/lady-gaga.txt').read()\n",
        "\n",
        "corpus = data.lower().split(\"\\n\")\n",
        "\n",
        "tokenizer.fit_on_texts(corpus)\n",
        "total_words = len(tokenizer.word_index) + 1\n",
        "\n",
        "print(tokenizer.word_index)\n",
        "print(total_words)\n"
      ],
      "execution_count": 6,
      "outputs": [
        {
          "output_type": "stream",
          "text": [
            "{'i': 1, 'you': 2, 'the': 3, 'a': 4, 'me': 5, 'my': 6, 'to': 7, 'and': 8, 'oh': 9, \"i'm\": 10, 'your': 11, 'that': 12, 'love': 13, 'be': 14, 'in': 15, 'on': 16, 'it': 17, \"don't\": 18, 'want': 19, 'just': 20, 'eh': 21, 'baby': 22, 'with': 23, 'of': 24, 'but': 25, 'we': 26, 'what': 27, 'wanna': 28, 'like': 29, 'do': 30, 'know': 31, 'so': 32, 'is': 33, 'this': 34, \"i'll\": 35, 'can': 36, \"you're\": 37, 'not': 38, \"can't\": 39, 'could': 40, 'p': 41, 'up': 42, 'one': 43, 'no': 44, 'good': 45, 'as': 46, 'got': 47, 'm': 48, 'for': 49, 'if': 50, 'million': 51, \"it's\": 52, 'way': 53, 'reasons': 54, 'all': 55, 'when': 56, 'heart': 57, 'hair': 58, 'dance': 59, 'gonna': 60, \"'cause\": 61, 'out': 62, 'la': 63, 'girl': 64, 'show': 65, 'ah': 66, 'face': 67, 'boys': 68, 'need': 69, 'muh': 70, 'touch': 71, 'yeah': 72, 'he': 73, 'was': 74, 'body': 75, 'come': 76, 'ha': 77, 'give': 78, 'down': 79, 'make': 80, 'tell': 81, 'take': 82, \"i've\": 83, 'were': 84, 'she': 85, 'read': 86, 'see': 87, \"won't\": 88, 'poker': 89, 'say': 90, 'doo': 91, 'night': 92, 'na': 93, 'man': 94, 'bad': 95, 'boy': 96, 'how': 97, 'at': 98, 'am': 99, 'something': 100, 'call': 101, 'feel': 102, 'time': 103, 'get': 104, 'tonight': 105, 'now': 106, 'teeth': 107, 'have': 108, 'let': 109, 'da': 110, \"let's\": 111, 'name': 112, 'go': 113, 'gaga': 114, 'ooh': 115, 'or': 116, 'put': 117, 'are': 118, 'hey': 119, 'game': 120, 'about': 121, 'her': 122, \"there's\": 123, 'stop': 124, 'think': 125, \"she's\": 126, 'edge': 127, 'yo': 128, 'babe': 129, \"'em\": 130, 'him': 131, 'u': 132, 'chorus': 133, 'around': 134, 'ale': 135, 'g': 136, 'hands': 137, 'marry': 138, 'will': 139, 'right': 140, 'enough': 141, 'alejandro': 142, 'cry': 143, 'walk': 144, 'dreams': 145, 'hot': 146, 'juda': 147, 'uh': 148, 'without': 149, 'y': 150, 'there': 151, 'away': 152, 'nothing': 153, 'video': 154, 'eyes': 155, 'through': 156, 'keep': 157, 'more': 158, 'back': 159, 'where': 160, 'die': 161, 'stay': 162, 'monster': 163, 'born': 164, 'thing': 165, 'play': 166, 'cause': 167, 'real': 168, 'artpop': 169, 'had': 170, 'still': 171, 'romance': 172, 'other': 173, 'beat': 174, 'off': 175, 'wish': 176, 'never': 177, 'aura': 178, 'everything': 179, 'free': 180, 'than': 181, 'sex': 182, 'gypsy': 183, 'try': 184, 'long': 185, 'who': 186, 'perfect': 187, 'chick': 188, 'bang': 189, 'our': 190, 'planet': 191, \"who's\": 192, 'fix': 193, 'his': 194, 'myself': 195, 'us': 196, 's': 197, 'cure': 198, 'always': 199, 'giving': 200, \"givin'\": 201, 'head': 202, 'even': 203, \"you'll\": 204, 'fashion': 205, 'life': 206, 'left': 207, 'phone': 208, 'alright': 209, 'from': 210, 'help': 211, 'ate': 212, 'behind': 213, 'find': 214, 'leave': 215, \"we're\": 216, 'guy': 217, 'gotta': 218, 'together': 219, 'applause': 220, 'really': 221, 'illusion': 222, 'paper': 223, 'track': 224, 'turn': 225, \"he's\": 226, 'nobody': 227, 'them': 228, 'dark': 229, 'scheiãÿe': 230, 'gangsta': 231, 'things': 232, 'promise': 233, 'run': 234, 'look': 235, 'makes': 236, 'some': 237, 'before': 238, 'alone': 239, 'here': 240, 'last': 241, 'else': 242, 'under': 243, 'inside': 244, 'forever': 245, 'better': 246, 'been': 247, 'after': 248, 'too': 249, 'watch': 250, 'world': 251, 'then': 252, 'meet': 253, \"goin'\": 254, 'hear': 255, 'until': 256, 'jandro': 257, 'little': 258, 'speak': 259, 'brown': 260, 'clair': 261, 'aus': 262, 'summer': 263, 'yes': 264, 'cut': 265, 'kiss': 266, 'friends': 267, 'said': 268, 'new': 269, 'its': 270, 'speechless': 271, 'feels': 272, 'happy': 273, 'someone': 274, 'greatest': 275, 'wrong': 276, 'would': 277, 'leather': 278, 'mah': 279, 'home': 280, 'live': 281, 'belong': 282, 'those': 283, 'both': 284, 'whoa': 285, 'while': 286, 'lady': 287, 'feeling': 288, 'wonder': 289, 'ma': 290, 'pray': 291, 'believe': 292, 'work': 293, 'talk': 294, 'wear': 295, 'disco': 296, 'fall': 297, 'okay': 298, 'seem': 299, 'hundred': 300, 'mean': 301, 'mine': 302, 'club': 303, 'high': 304, 'place': 305, 'over': 306, 'follow': 307, 'kind': 308, 'fun': 309, 'they': 310, 'control': 311, 'why': 312, 'judas': 313, 'mind': 314, 'damn': 315, 'huh': 316, 'each': 317, 'blow': 318, 'er': 319, 'loves': 320, 'swine': 321, 'handle': 322, 'care': 323, 'bow': 324, 'worst': 325, 'lord': 326, 'worn': 327, 'might': 328, 'hard': 329, 'record': 330, 'only': 331, 'cherry': 332, 'glory': 333, 'e': 334, 'lay': 335, 'own': 336, 'prayer': 337, 'apart': 338, 'venus': 339, 'light': 340, 'top': 341, 'christmas': 342, 'by': 343, 'should': 344, 'crazy': 345, 'mama': 346, 'hold': 347, 'second': 348, \"callin'\": 349, 'telephone': 350, 'again': 351, 'two': 352, 'another': 353, 'hell': 354, 'red': 355, \"you've\": 356, 'strong': 357, 'loud': 358, 'catch': 359, 'cured': 360, 'may': 361, 'caught': 362, 'sick': 363, \"ain't\": 364, 'party': 365, 'smoke': 366, 'fool': 367, 'an': 368, 'happens': 369, 'verse': 370, 'thought': 371, 'into': 372, 'these': 373, 'boots': 374, 'day': 375, 'living': 376, 'mirror': 377, \"smokin'\": 378, 'full': 379, 'starstruck': 380, 'downtown': 381, 'matter': 382, 'heal': 383, 'song': 384, 'rah': 385, 'ro': 386, 'floor': 387, 'lonely': 388, 'sure': 389, 'lights': 390, 'fernando': 391, \"we'll\": 392, 'duh': 393, 'looked': 394, \"'til\": 395, 'nasty': 396, 'heard': 397, 'making': 398, 'act': 399, 'maybe': 400, 'dum': 401, 'ye': 402, 'aha': 403, 'boom': 404, 'tap': 405, 'funk': 406, 'cover': 407, 'ever': 408, 'bitch': 409, 'sorry': 410, 'girls': 411, 'sometimes': 412, 'please': 413, 'cool': 414, 'drinks': 415, 'forgive': 416, 'fine': 417, 'guess': 418, 'bed': 419, '2': 420, 'sexxx': 421, 'wait': 422, 'best': 423, 'diamond': 424, 'dope': 425, \"bleedin'\": 426, \"needin'\": 427, 'every': 428, 'write': 429, 'made': 430, 'god': 431, 'truth': 432, 'religion': 433, 'any': 434, 'anymore': 435, 'reach': 436, \"dancin'\": 437, 'gold': 438, 'shit': 439, 'cigarette': 440, 'shot': 441, 'lost': 442, 'break': 443, 'fame': 444, 'telling': 445, 'ass': 446, \"doin'\": 447, 'forget': 448, \"wasn't\": 449, 'john': 450, \"lookin'\": 451, 'goddess': 452, 'ich': 453, 'schleiban': 454, 'austa': 455, 'es': 456, 'kumpent': 457, 'ã¼ske': 458, 'monstã¨re': 459, 'flaugen': 460, 'frã¤ulein': 461, 'uske': 462, 'ceiling': 463, 'sign': 464, 'hurt': 465, 'underneath': 466, 'brooklyn': 467, 'sing': 468, 'hush': 469, \"i'd\": 470, 'young': 471, 'lover': 472, 'drink': 473, 'nights': 474, 'lot': 475, 'buy': 476, 'papa': 477, 'paparazzi': 478, 'en': 479, 'broken': 480, 'fight': 481, \"hangin'\": 482, 'moment': 483, 'hit': 484, 'much': 485, 'holy': 486, 'l': 487, 'pop': 488, 'ride': 489, 'because': 490, 'leader': 491, 'squealer': 492, 'met': 493, 'americano': 494, 'flawless': 495, 'open': 496, 'used': 497, 'harder': 498, 'electric': 499, 'chapel': 500, 'ho': 501, 'side': 502, 'anything': 503, 'hills': 504, 'hand': 505, 'move': 506, 'yourself': 507, 'mi': 508, 'white': 509, 'busy': 510, 'three': 511, 'roberto': 512, \"that's\": 513, 'spin': 514, 'use': 515, 'ga': 516, 'end': 517, 'doing': 518, 'stick': 519, 'wants': 520, 'dont': 521, 'hope': 522, 'princess': 523, 'wayne': 524, 'blue': 525, 'falls': 526, 'music': 527, 'looking': 528, 'slay': 529, 'old': 530, 'pig': 531, 'cold': 532, 'america': 533, 'law': 534, 'sun': 535, 'nein': 536, 'zedd': 537, 'peek': 538, 'lives': 539, 'unpredictable': 540, 'unemotional': 541, 'donatella': 542, 'bite': 543, 'meat': 544, 'fangs': 545, 'pam': 546, 'tree': 547, 'quit': 548, 'highway': 549, 'stuck': 550, 'revenge': 551, 'lipstick': 552, 'kinda': 553, 'nebraska': 554, 'cars': 555, 'choose': 556, 'everybody': 557, 'knows': 558, 'same': 559, 'remember': 560, 'mouth': 561, 'bars': 562, 'cruel': 563, 'future': 564, \"something's\": 565, 'r': 566, 'boyfriend': 567, 'denim': 568, 'american': 569, 'wild': 570, 'seen': 571, 'mess': 572, 'space': 573, 'voice': 574, 'low': 575, 'funny': 576, 'groove': 577, 'flavor': 578, 'sound': 579, 'arms': 580, 'anyway': 581, 'rub': 582, 'favorite': 583, 'dry': 584, 'which': 585, 'parts': 586, 'faith': 587, 'lovers': 588, 'set': 589, 'rejoice': 590, 'did': 591, \"sippin'\": 592, 'bub': 593, 'faster': 594, 'number': 595, 'rock': 596, 'money': 597, 'woman': 598, 'ready': 599, 'lose': 600, 'dad': 601, 'start': 602, 'going': 603, \"tryin'\": 604, 'tomorrow': 605, 'stand': 606, 'friend': 607, 'king': 608, 'plause': 609, 'scream': 610, 'art': 611, 'weekend': 612, 'naked': 613, 'streets': 614, 'burn': 615, 'hairspray': 616, 'school': 617, 'change': 618, 'bare': 619, 'mistaken': 620, 'somewhere': 621, 'ya': 622, 'stars': 623, 'single': 624, 'fare': 625, 'gone': 626, \"body's\": 627, \"pleadin'\": 628, 'breathe': 629, \"sinner's\": 630, 'slam': 631, 'save': 632, 'pain': 633, \"singin'\": 634, 'circles': 635, 'lift': 636, 'beating': 637, \"ev'ry\": 638, 'voodoo': 639, \"that'll\": 640, 'delicious': 641, 'manicured': 642, 'fancy': 643, 'yours': 644, 'close': 645, 'cycle': 646, 'stare': 647, 'stopped': 648, 'breathing': 649, 'completely': 650, 'aware': 651, 'fathom': 652, 'heartbreak': 653, 'glass': 654, 'listen': 655, 'hide': 656, 'queen': 657, 'insecure': 658, 'black': 659, 'today': 660, 'straight': 661, 'check': 662, 'heels': 663, 'first': 664, 'years': 665, 'clothes': 666, 'whole': 667, 'pay': 668, 'jesus': 669, 'chase': 670, \"we'd\": 671, 'famous': 672, 'point': 673, 'fire': 674, 'rush': 675, \"isn't\": 676, 'gun': 677, \"what's\": 678, 'done': 679, 'shawty': 680, 'round': 681, 'half': 682, 'psychotic': 683, 'lies': 684, 'bring': 685, 'pull': 686, '1': 687, 'bridge': 688, 'bust': 689, 'mission': 690, 'street': 691, 'has': 692, 'german': 693, 'their': 694, 'dream': 695, 'ecstasy': 696, 'cowboy': 697, 'girlfriend': 698, 'bikini': 699, 'paint': 700, 'somebody': 701, 'stones': 702, 'mountain': 703, 'sweet': 704, 're': 705, 'marlboro': 706, 'em': 707, 'drop': 708, 'though': 709, 'nice': 710, 'sad': 711, 'goes': 712, \"didn't\": 713, 'air': 714, 'rich': 715, 'ill': 716, 'wont': 717, 'drum': 718, 'champagne': 719, 'figure': 720, 'onto': 721, 'addicted': 722, 'desire': 723, 'lo': 724, 'je': 725, 'h': 726, 'far': 727, 'drag': 728, 'must': 729, 'broke': 730, 'cannot': 731, \"telephonin'\": 732, 'since': 733, 'came': 734, 'leaving': 735, 'sit': 736, 'bar': 737, 'roll': 738, 'c': 739, 'coming': 740, 'biggest': 741, 'fan': 742, 'dancing': 743, 'mexico': 744, 'bother': 745, 'does': 746, 'hypnotic': 747, 'blueprint': 748, 'clean': 749, 'bleed': 750, 'tight': 751, 'line': 752, 'wow': 753, \"we've\": 754, 'death': 755, 'crown': 756, 'dead': 757, 'beyond': 758, 'gets': 759, 'shoes': 760, 'saying': 761, 'cheer': 762, 'thinking': 763, 'trashy': 764, 'pre': 765, 'miss': 766, 'sexy': 767, 'kick': 768, 'road': 769, 'goodbye': 770, 'trying': 771, \"watchin'\": 772, 'falling': 773, 'modern': 774, 'fast': 775, 'big': 776, 'tramp': 777, 'vamp': 778, 'aphrodite': 779, 'alive': 780, 'human': 781, 'squeal': 782, 'disgusting': 783, 'above': 784, 'tops': 785, 'son': 786, 'rain': 787, 'walks': 788, 'bottle': 789, 'wine': 790, 'having': 791, 'clouds': 792, 'higher': 793, 'getting': 794, 'shoot': 795, 'great': 796, 'filter': 797, 'bump': 798, 'forth': 799, 'star': 800, 'wake': 801, 'sexual': 802, 'power': 803, 'cosmic': 804, \"talkin'\": 805, 'press': 806, 'film': 807, 'cameo': 808, \"gon'\": 809, 'ones': 810, 'tried': 811, 'easy': 812, 'cher': 813, 'wings': 814, 'whose': 815, 'monkey': 816, 'papers': 817, 'business': 818, 'interested': 819, 'fakers': 820, 'voo': 821, 'don': 822, 'ra': 823, 'pa': 824, 'falalalalalalala': 825, 'undress': 826, 'tired': 827, 'asleep': 828, 'feet': 829, 'legs': 830, 'wrote': 831, 'passion': 832, \"doesn't\": 833, \"lovin'\": 834, 'beautiful': 835, 'mistakes': 836, 'regret': 837, 'different': 838, 'called': 839, 'answer': 840, \"takin'\": 841, 'calls': 842, \"couldn't\": 843, 'sang': 844, 'men': 845, 'york': 846, 'jeans': 847, 'means': 848, 'superstar': 849, 'flames': 850, 'reason': 851, 'dangerous': 852, 'raise': 853, 'spades': 854, 'pair': 855, 'russian': 856, 'many': 857, 'electronic': 858, 'slow': 859, 'ow': 860, 'brain': 861, 'sense': 862, 'burns': 863, 'being': 864, 'dirty': 865, 'aah': 866, 'naughty': 867, 'stone': 868, 'color': 869, 'couple': 870, '3': 871, 'loose': 872, 'climb': 873, 'special': 874, 'morning': 875, 'wandering': 876, 'took': 877, 'nowhere': 878, 'asked': 879, 'honey': 880, 'freak': 881, 'swear': 882, 'spirit': 883, 'least': 884, 'city': 885, 'fucked': 886, 'tells': 887, 'instead': 888, 'looks': 889, 'bedroom': 890, 'galaxy': 891, 'oyster': 892, 'serve': 893, 'mars': 894, 'sweat': 895, 'dress': 896, 'couture': 897, 'word': 898, 'deep': 899, 'skin': 900, 'permission': 901, 'blonde': 902, 'crucify': 903, 'bloody': 904, 'mary': 905, 'jesãºs': 906, 'cristo': 907, \"ceilin'\": 908, 'hate': 909, \"go'n\": 910, 'five': 911, 'ten': 912, \"c'mon\": 913, 'empty': 914, 'feast': 915, 'rhyme': 916, 'bitches': 917, 'pussy': 918, 'd': 919, 'lines': 920, 'waist': 921, 'fader': 922, 'original': 923, 'trip': 924, 'suppose': 925, 'green': 926, 'taking': 927, 'lets': 928, 'cute': 929, 'well': 930, 'lie': 931, 'wondering': 932, 'ford': 933, 'scared': 934, 'outro': 935, 'former': 936, 'trunk': 937, 'hahahaha': 938, 'size': 939, 'burqa': 940, 'pleasure': 941, 'hustlas': 942, \"walkin'\": 943, \"sayin'\": 944, 'smell': 945, 'repeat': 946, 'hurting': 947, 'bones': 948, \"in'\": 949, 'youre': 950, 'permanently': 951, 'thoughts': 952, 'ways': 953, 'learn': 954, 'laugh': 955, 'till': 956, 'such': 957, 'dita': 958, 'diva': 959, 'rainbow': 960, 'spring': 961, 'season': 962, 'radiate': 963, 'magic': 964, 'misunderstood': 965, 'nah': 966, 'direction': 967, 'tied': 968, 'whatcha': 969, 'salvation': 970, 'steal': 971, 'safe': 972, 'ground': 973, 'awful': 974, \"salon's\": 975, 'manicure': 976, \"care'n\": 977, 'garner': 978, 'serial': 979, 'killer': 980, 'goner': 981, 'lullaby': 982, 'ugly': 983, 'sand': 984, 'rear': 985, \"j'veux\": 986, 'ton': 987, 'amour': 988, 'veux': 989, 'capital': 990, 'paws': 991, 'told': 992, 'boudoir': 993, \"nothin'\": 994, 'subway': 995, 'whether': 996, 'beige': 997, 'chola': 998, 'orient': 999, 'gay': 1000, 'hello': 1001, 'service': 1002, 'wha': 1003, 'breaking': 1004, 'k': 1005, \"they're\": 1006, 'shoulda': 1007, 'plans': 1008, 'knew': 1009, 'coat': 1010, 'town': 1011, 'taste': 1012, 'whiskey': 1013, 'corner': 1014, 'couch': 1015, 'joke': 1016, 'muscle': 1017, 'house': 1018, 'six': 1019, 'rather': 1020, 'true': 1021, 'picture': 1022, 'price': 1023, 'yellow': 1024, 'lashes': 1025, 'loving': 1026, 'snap': 1027, 'hides': 1028, 'su': 1029, 'bolsillo': 1030, 'halo': 1031, 'finger': 1032, \"boyfriend's\": 1033, 'bye': 1034, 'push': 1035, 'final': 1036, 'texas': 1037, 'plays': 1038, 'fold': 1039, 'intuition': 1040, 'cards': 1041, 'hooked': 1042, 'gambling': 1043, 'roulette': 1044, 'rough': 1045, 'hug': 1046, 'bluffing': 1047, 'muffin': 1048, 'lying': 1049, 'stunning': 1050, 'glue': 1051, \"gunnin'\": 1052, 'casino': 1053, 'bank': 1054, 'marvelous': 1055, 'bit': 1056, 'people': 1057, 'keys': 1058, 'shut': 1059, 'poison': 1060, 'pick': 1061, 'car': 1062, 'energy': 1063, 'hips': 1064, 'okayay': 1065, 'symphonic': 1066, 'carve': 1067, 'drive': 1068, 'spend': 1069, 'gave': 1070, 'bubble': 1071, 'complicated': 1072, 'loser': 1073, 'hearts': 1074, 'wrecked': 1075, 'promised': 1076, 'company': 1077, 'needs': 1078, 'darkness': 1079, 'brick': 1080, 'build': 1081, 'sink': 1082, 'vomits': 1083, 'next': 1084, 'pulling': 1085, 'cling': 1086, 'iv': 1087, 'found': 1088, 'kunst': 1089, 'culture': 1090, 't': 1091, 'quarrel': 1092, 'hurts': 1093, 'convicted': 1094, 'criminals': 1095, 'glove': 1096, 'evidence': 1097, 'petrified': 1098, 'swimming': 1099, 'pool': 1100, 'laughs': 1101, 'minute': 1102, 'seconds': 1103, 'staring': 1104, 'smile': 1105, 'story': 1106, 'winner': 1107, 'explore': 1108, 'throw': 1109, 'twice': 1110, 'tan': 1111, 'bells': 1112, 'el': 1113, 'front': 1114, 'shush': 1115, 'saw': 1116, 'ferrari': 1117, 'everyone': 1118, 'simple': 1119, 'pack': 1120, 'paris': 1121, 'mom': 1122, 'chance': 1123, 'felt': 1124, 'dilated': 1125, 'confusion': 1126, 'hang': 1127, \"hollerin'\": 1128, 'beer': 1129, 'moonlight': 1130, 'games': 1131, 'crave': 1132, 'strung': 1133, \"man's\": 1134, 'cried': 1135, 'storm': 1136, 'amaze': 1137, 'honestly': 1138, \"she'd\": 1139, 'mumbled': 1140, \"might've\": 1141, 'quite': 1142, 'recall': 1143, 'french': 1144, 'says': 1145, 'grin': 1146, 'moon': 1147, 'marilyn': 1148, 'blond': 1149, 'freedom': 1150, 'seashell': 1151, 'earth': 1152, \"heaven's\": 1153, \"wouldn't\": 1154, 'thin': 1155, 'room': 1156, 'diamonds': 1157, 'pearls': 1158, 'married': 1159, 'designer': 1160, \"love's\": 1161, 'haute': 1162, 'went': 1163, 'older': 1164, 'silly': 1165, 'whatever': 1166, 'rebuke': 1167, 'condition': 1168, 'female': 1169, 'prove': 1170, 'fell': 1171, \"sp'\": 1172, 'coast': 1173, 'language': 1174, 'fought': 1175, 'estã¡n': 1176, 'los': 1177, 'chicos': 1178, 'chicas': 1179, \"somethin'\": 1180, \"girl's\": 1181, 'tough': 1182, \"daddy's\": 1183, 'worth': 1184, 'tears': 1185, 'bend': 1186, 'affair': 1187, 'pretty': 1188, 'mad': 1189, 'knees': 1190, 'beg': 1191, 'cheap': 1192, \"feelin'\": 1193, 'thats': 1194, 'complete': 1195, 'wobble': 1196, 'wo': 1197, 'niggas': 1198, 'benji': 1199, 'cash': 1200, 'clearly': 1201, 'admit': 1202, 'twelve': 1203, 'request': 1204, 'dre': 1205, 'headphones': 1206, 'scratch': 1207, 'breakdown': 1208, 'ke': 1209, 'ive': 1210, \"poppin'\": 1211, 'complica': 1212, 'greetings': 1213, 'audio': 1214, 'guides': 1215, 'exciting': 1216, 'positions': 1217, 'grave': 1218, 'tie': 1219, \"aimin'\": 1220, 'retweet': 1221, 'cuz': 1222, 'comes': 1223, 'phase': 1224, 'rams': 1225, 'atmosphere': 1226, 'shy': 1227, 'charge': 1228, 'achtzehn': 1229, 'fourteen': 1230, 'vierzehn': 1231, 'drei': 1232, 'eins': 1233, 'ok': 1234, 'print': 1235, 'kelly': 1236, 'private': 1237, 'killed': 1238, 'knife': 1239, 'hood': 1240, 'send': 1241, 'hollywood': 1242, 'slave': 1243, 'choice': 1244, 'veil': 1245, 'protection': 1246, 'gorgeousness': 1247, 'enigma': 1248, 'statement': 1249, 'soil': 1250, 'screaming': 1251, 'toil': 1252, 'curtain': 1253, 'hanging': 1254, 'hubba': 1255, 'win': 1256, 'b': 1257, 'sees': 1258, 'bleach': 1259, 'swallow': 1260, 'peroxide': 1261, 'wrapped': 1262, 'queens': 1263, 'trick': 1264, 'pretend': 1265, 'sins': 1266, 'awake': 1267, 'bell': 1268, 'bottom': 1269, 'searching': 1270, 'spirits': 1271, 'soul': 1272, 'fit': 1273, 'loved': 1274, 'already': 1275, 'purse': 1276, 'adieu': 1277, 'self': 1278, \"'bout\": 1279, 'hybrid': 1280, 'withstand': 1281, 'bricks': 1282, 'strings': 1283, 'fly': 1284, 'sell': 1285, 'create': 1286, 'bling': 1287, 'everyday': 1288, 'cab': 1289, 'bowery': 1290, 'held': 1291, 'seventeen': 1292, 'yall': 1293, 'listening': 1294, 'tech': 1295, 'strange': 1296, 'behaving': 1297, 'accept': 1298, 'less': 1299, 'fabulous': 1300, 'words': 1301, 'played': 1302, 'towel': 1303, 'aiming': 1304, 'retreat': 1305, 'past': 1306, 'meant': 1307, 'deal': 1308, 'guilt': 1309, 'sip': 1310, 'runaway': 1311, 'ultra': 1312, 'sprung': 1313, 'dancer': 1314, 'box': 1315, 'affliction': 1316, 'leaves': 1317, 'wanting': 1318, 'perfectly': 1319, 'stickss': 1320, 'chains': 1321, 'whips': 1322, 'excite': 1323, 'ahh': 1324, 'church': 1325, 'edelweiss': 1326, 'stream': 1327, 'fab': 1328, 'smokin': 1329, 'tank': 1330, 'gas': 1331, 'bella': 1332, 'upper': 1333, 'class': 1334, 'pearl': 1335, 'reds': 1336, 'addictions': 1337, 'guidance': 1338, 'pure': 1339, 'prisons': 1340, 'exist': 1341, 'mistletoe': 1342, 'falalalala': 1343, 'wore': 1344, \"comin'\": 1345, \"'round\": 1346, 'medicine': 1347, 'disease': 1348, 'drama': 1349, 'studded': 1350, 'oooh': 1351, 'horror': 1352, 'design': 1353, 'criminal': 1354, 'psycho': 1355, 'vertigo': 1356, 'shtick': 1357, 'window': 1358, 'et': 1359, 'ta': 1360, 'revanche': 1361, 'superstars': 1362, 'rolled': 1363, 'prudence': 1364, 'kid': 1365, 'respect': 1366, 'youth': 1367, 'sin': 1368, 'amore': 1369, 'vole': 1370, 'fe': 1371, 'yah': 1372, 'evergreen': 1373, 'descent': 1374, 'lebanese': 1375, \"life's\": 1376, 'disabilities': 1377, 'outcast': 1378, 'bullied': 1379, 'teased': 1380, 'bi': 1381, 'lesbian': 1382, 'transgendered': 1383, 'survive': 1384, 'brave': 1385, 'text': 1386, 'calling': 1387, \"blowin'\": 1388, 'disaster': 1389, 'collector': 1390, \"ringin'\": 1391, 'grand': 1392, 'central': 1393, 'station': 1394, 'reached': 1395, 'doll': 1396, 'drove': 1397, 'truck': 1398, 'birthday': 1399, 'guitar': 1400, 'humming': 1401, 'rent': 1402, 'heaven': 1403, 'certain': 1404, 'daddy': 1405, 'christ': 1406, 'knowing': 1407, 'crowd': 1408, 'flash': 1409, 'magical': 1410, 'fantastical': 1411, 'glamorous': 1412, 'photo': 1413, 'flashing': 1414, 'backstage': 1415, 'velvet': 1416, 'ropes': 1417, 'guitars': 1418, 'rockstar': 1419, 'between': 1420, 'sets': 1421, 'eyeliner': 1422, 'cigarettes': 1423, 'shadow': 1424, 'burnt': 1425, 'purple': 1426, 'teardrops': 1427, 'pie': 1428, 'studio': 1429, 'radio': 1430, 'anyone': 1431, 'plastic': 1432, 'pocket': 1433, 'burned': 1434, 'hoo': 1435, \"limit's\": 1436, 'shades': 1437, 'konvict': 1438, 'woah': 1439, 'twist': 1440, 'playboy': 1441, \"how'd\": 1442, 'shirt': 1443, 'roses': 1444, 'thorns': 1445, \"gettin'\": 1446, 'hosed': 1447, \"checkin'\": 1448, 'catalog': 1449, 'women': 1450, 'flaw': 1451, 'steady': 1452, 'flex': 1453, \"'till\": 1454, 'twirling': 1455, 'meantime': 1456, 'hustle': 1457, 'lysol': 1458, 'dough': 1459, 'pocko': 1460, 'threw': 1461, 'james': 1462, 'dean': 1463, 'glossy': 1464, 'stained': 1465, 'punch': 1466, 'slurred': 1467, 'wired': 1468, 'jaw': 1469, 'popped': 1470, 'seams': 1471, 'johnnie': 1472, 'walker': 1473, 'rye': 1474, 'mend': 1475, 'along': 1476, 'wash': 1477, 'tongue': 1478, 'times': 1479, 'betrays': 1480, 'purely': 1481, 'forgave': 1482, 'goofy': 1483, 'learned': 1484, 'most': 1485, 'biblical': 1486, 'repentance': 1487, 'hooker': 1488, 'prostitute': 1489, 'wench': 1490, 'cultural': 1491, 'tense': 1492, 'offenced': 1493, 'ear': 1494, 'condom': 1495, 'virtue': 1496, 'demon': 1497, 'crashes': 1498, 'rope': 1499, 'standing': 1500, 'waiting': 1501, 'gong': 1502, 'crash': 1503, 'critics': 1504, 'bear': 1505, 'vein': 1506, 'overheard': 1507, 'theory': 1508, \"nostalgia's\": 1509, 'geeks': 1510, 'sir': 1511, 'suddenly': 1512, \"art's\": 1513, 'o': 1514, '4x': 1515, 'heads': 1516, 'speaking': 1517, 'giggles': 1518, 'itunes': 1519, 'festival': 1520, 'poetry': 1521, 'rhymed': 1522, 'bodies': 1523, \"now's\": 1524, 'trial': 1525, 'doubts': 1526, 'drawls': 1527, 'stupid': 1528, 'squeezed': 1529, 'cupid': 1530, 'involves': 1531, 'heavy': 1532, 'touching': 1533, 'indicated': 1534, 'interest': 1535, 'educated': 1536, 'across': 1537, 'block': 1538, 'starts': 1539, 'warrior': 1540, 'passionately': 1541, 'stark': 1542, 'soldier': 1543, 'emptiness': 1544, 'lace': 1545, 'cruise': 1546, 'fishnet': 1547, 'gloves': 1548, 'sinner': 1549, 'bartender': 1550, \"nothing's\": 1551, 'skeleton': 1552, 'guns': 1553, 'wedding': 1554, 'attic': 1555, 'ginger': 1556, 'camino': 1557, 'poke': 1558, 'holes': 1559, 'seats': 1560, 'hole': 1561, 'explode': 1562, 'ohh': 1563, 'pockets': 1564, 'draw': 1565, 'sugar': 1566, 'glitter': 1567, 'mixed': 1568, 'glamaphonic': 1569, 'retro': 1570, 'sneakers': 1571, 'killers': 1572, 'bleachers': 1573, \"buddy's\": 1574, 'dj': 1575, 'ashtray': 1576, 'dramatic': 1577, 'eggs': 1578, 'packed': 1579, 'baggage': 1580, 'family': 1581, 'dorothy': 1582, 'ruby': 1583, 'quick': 1584, 'treat': 1585, 'mother': 1586, 'bags': 1587, 'sunset': 1588, 'view': 1589, 'jets': 1590, 'russia': 1591, 'uk': 1592, 'italian': 1593, 'asian': 1594, 'kompai': 1595, 'africa': 1596, 'india': 1597, 'latin': 1598, 'someday': 1599, 'jakarta': 1600, 'bangkok': 1601, 'australia': 1602, 'malaysia': 1603, 'sweden': 1604, 'finland': 1605, 'norway': 1606, 'whenever': 1607, 'dressed': 1608, 'parents': 1609, 'short': 1610, 'identity': 1611, 'waltz': 1612, 'highlights': 1613, 'dynamite': 1614, 'friday': 1615, 'rocks': 1616, 'bangs': 1617, 'lots': 1618, 'invite': 1619, 'parties': 1620, 'ashamed': 1621, \"pressure's\": 1622, 'toll': 1623, 'middle': 1624, 'zone': 1625, 'guessing': 1626, \"touchin'\": 1627, 'amphetamine': 1628, 'crush': 1629, \"wakin'\": 1630, 'horse': 1631, 'mustang': 1632, \"speedin'\": 1633, 'headed': 1634, \"runnin'\": 1635, 'rubber': 1636, \"spinnin'\": 1637, 'swig': 1638, 'toss': 1639, 'lit': 1640, \"prayin'\": 1641, 'collar': 1642, 'state': 1643, 'treasure': 1644, 'junkie': 1645, 'bender': 1646, 'grip': 1647, 'glare': 1648, 'trouble': 1649, 'mug': 1650, 'charged': 1651, 'gears': 1652, \"shiftin'\": 1653, \"racin'\": 1654, 'eye': 1655, 'knock': 1656, 'wolf': 1657, 'disguise': 1658, 'evil': 1659, 'licked': 1660, 'lips': 1661, 'eat': 1662, 'kissed': 1663, 'train': 1664, 'tore': 1665, 'silicone': 1666, 'saline': 1667, 'inject': 1668, 'stressed': 1669, 'vampire': 1670, \"howlin'\": 1671, 'kills': 1672, 'judy': 1673, 'sylvia': 1674, 'jean': 1675, 'benet': 1676, 'ramsey': 1677, 'haunt': 1678, 'liberace': 1679, 'kubrick': 1680, 'diana': 1681, 'rocket': 1682, '9': 1683, 'garden': 1684, 'panty': 1685, 'blast': 1686, 'dimension': 1687, 'aphrod': 1688, 'isy': 1689, 'sleazy': 1690, 'worship': 1691, 'land': 1692, 'neptune': 1693, 'pluto': 1694, 'saturn': 1695, 'jupiter': 1696, 'mercury': 1697, 'uranus': 1698, 'gods': 1699, 'joanne': 1700, 'part': 1701, 'aching': 1702, 'angels': 1703, \"you'd\": 1704, \"movin'\": 1705, 'soar': 1706, 'step': 1707, 'catwalk': 1708, 'singing': 1709, 'tune': 1710, 'talking': 1711, 'display': 1712, 'transform': 1713, 'material': 1714, 'zip': 1715, \"look's\": 1716, 'ethereal': 1717, 'sens': 1718, 'donnez': 1719, 'moi': 1720, 'christian': 1721, 'louboutins': 1722, 'le': 1723, 'monde': 1724, 'est': 1725, 'tã©moin': 1726, \"c'est\": 1727, 'vie': 1728, 'suis': 1729, 'walked': 1730, 'soft': 1731, 'grab': 1732, 'tricks': 1733, 'surprise': 1734, 'ani': 1735, 'mal': 1736, 'shrew': 1737, 'hog': 1738, 'jiggle': 1739, 'slap': 1740, 'wiggle': 1741, 'objectified': 1742, 'bullshit': 1743, 'heeled': 1744, 'feminist': 1745, 'enlisting': 1746, 'femmes': 1747, 'express': 1748, 'history': 1749, \"religion's\": 1750, 'pontius': 1751, 'kill': 1752, 'upon': 1753, 'throne': 1754, 'michelangelo': 1755, 'rewrite': 1756, 'aggro': 1757, 'furied': 1758, 'ne': 1759, 'pas': 1760, 'mourir': 1761, 'toute': 1762, 'seule': 1763, 'liberdad': 1764, 'amor': 1765, 'east': 1766, 'floral': 1767, 'shorts': 1768, 'eights': 1769, 'barrio': 1770, 'chords': 1771, 'court': 1772, 'mis': 1773, 'canciones': 1774, 'de': 1775, 'revoluciã³n': 1776, 'corazã³n': 1777, 'duele': 1778, 'por': 1779, 'generaciã³n': 1780, 'west': 1781, 'wednesday': 1782, 'verano': 1783, 'agosto': 1784, 'mountains': 1785, 'las': 1786, 'campanas': 1787, 'sonando': 1788, 'todos': 1789, 'besando': 1790, 'rev': 1791, \"tearin'\": 1792, 'gravel': 1793, 'unravel': 1794, 'cast': 1795, 'spell': 1796, 'covered': 1797, 'gravy': 1798, 'southern': 1799, \"drippin'\": 1800, 'blaze': 1801, 'rail': 1802, 'shook': 1803, 'fake': 1804, 'laced': 1805, 'asshole': 1806, 'innocence': 1807, 'jameson': 1808, \"playin'\": 1809, 'soon': 1810, 'lavender': 1811, 'moves': 1812, 'silence': 1813, 'vain': 1814, 'allow': 1815, 'gloss': 1816, \"draggin'\": 1817, 'wearing': 1818, 'scene': 1819, 'devil': 1820, 'blame': 1821, 'sister': 1822, 'breaks': 1823, 'knockoff': 1824, 'piece': 1825, 'fulton': 1826, 'gift': 1827, 'thirsty': 1828, 'brink': 1829, 'throws': 1830, 'carry': 1831, 'ghosts': 1832, 'lately': 1833, 'naughtier': 1834, 'usual': 1835, 'mention': 1836, 'loveth': 1837, 'nicki': 1838, 'minaj': 1839, 'wobbledy': 1840, \"wobbin'\": 1841, 'fat': 1842, 'pussies': 1843, \"throbbin'\": 1844, 'phantom': 1845, 'meter': 1846, 'eater': 1847, 'squeaky': 1848, 'geeky': 1849, 'mandingo': 1850, 'dashiki': 1851, 'islands': 1852, 'waikii': 1853, 'iggy': 1854, 'azalea': 1855, 'pole': 1856, 'college': 1857, 'supportin': 1858, 'hottest': 1859, 'benjamin': 1860, 'topic': 1861, 'bounce': 1862, 'speed': 1863, 'ripped': 1864, '19': 1865, 'headset': 1866, 'mute': 1867, 'physical': 1868, 'ring': 1869, 'recommend': 1870, \"rollin'\": 1871, \"stylin'\": 1872, \"freakin'\": 1873, 'fantasize': 1874, \"tweakin'\": 1875, 'cue': 1876, 'table': 1877, 'playlist': 1878, 'reverse': 1879, \"lil'\": 1880, 'mamma': 1881, 'rims': 1882, 'enter': 1883, 'flow': 1884, 'signature': 1885, 'adjust': 1886, 'dotted': 1887, 'fanatic': 1888, 'struck': 1889, 'gal': 1890, 'overdose': 1891, 'starbucks': 1892, 'balla': 1893, 'stack': 1894, 'taller': 1895, 'notice': 1896, 'chevy': 1897, 'impala': 1898, 'hummers': 1899, 'fully': 1900, 'loaded': 1901, 'spoilers': 1902, 'showed': 1903, 'dollars': 1904, 'chapter': 1905, 'bachelor': 1906, 'spotted': 1907, 'actor': 1908, 'swagga': 1909, 'dagga': 1910, 'happily': 1911, 'list': 1912, 'pretending': 1913, 'glasses': 1914, 'martini': 1915, 'glistens': 1916, 'checking': 1917, 'guys': 1918, 'hurry': 1919, 'eros': 1920, 'unearth': 1921, 'makeup': 1922, 'mount': 1923, \"mars'\": 1924, 'warm': 1925, 'wrap': 1926, 'sechzen': 1927, 'early': 1928, 'longer': 1929, 'tom': 1930, 'flights': 1931, 'schedule': 1932, 'trade': 1933, 'cup': 1934, 'blunt': 1935, 'pusher': 1936, 'escape': 1937, 'president': 1938, 'shots': 1939, 'invitations': 1940, 'haters': 1941, 'roughing': 1942, 'fuck': 1943, 'fade': 1944, '10': 1945, \"them's\": 1946, 'popstar': 1947, 'watcha': 1948, 'approach': 1949, 'fresh': 1950, 'pants': 1951, 'grown': 1952, \"soundin'\": 1953, 'convince': 1954, 'swagger': 1955, 'blade': 1956, 'cologne': 1957, 'cancelled': 1958, 'bag': 1959, 'nails': 1960, \"frontin'\": 1961, \"wantin'\": 1962, 'screen': 1963, \"flashin'\": 1964, 'receiver': 1965, 'oscar': 1966, 'gene': 1967, 'brando': 1968, \"i'mma\": 1969, 'gs': 1970, \"'specially\": 1971, 'atlanta': 1972, 'houston': 1973, 'orleans': 1974, \"breakin'\": 1975, 'focus': 1976, \"ballin'\": 1977, 'shake': 1978, \"likin'\": 1979, 'position': 1980, 'tape': 1981, 'hustla': 1982, 'coffin': 1983, 'photograph': 1984, 'laying': 1985, 'knives': 1986, 'hungry': 1987, 'anorexic': 1988, 'very': 1989, 'smart': 1990, 'silks': 1991, 'egyptian': 1992, 'cope': 1993, 'pills': 1994, 'note': 1995, 'post': 1996, 'boyfriends': 1997, 'limo': 1998, 'proposed': 1999, '16': 2000, 'carat': 2001, 'rose': 2002, 'applaud': 2003, 'approve': 2004, 'pass': 2005, 'breath': 2006, 'recognize': 2007, 'swirl': 2008, 'clicks': 2009, 'vanish': 2010, \"cork's\": 2011, \"party's\": 2012, 'begun': 2013, 'toast': 2014, 'puff': 2015, 'regrets': 2016, 'steps': 2017, 'stairway': 2018, 'coal': 2019, 'seemed': 2020, 'grow': 2021, \"it'd\": 2022, 'f': 2023, 'bus': 2024, 'chandelier': 2025, \"'member\": 2026, 'hung': 2027, 'rocky': 2028, 'scored': 2029, 'brigitte': 2030, \"nielsen's\": 2031, 'champion': 2032, 'won': 2033, 'cracked': 2034, \"i'ts\": 2035, 'opened': 2036, 'lockup': 2037, 'shared': 2038, 'jerk': 2039, 'brush': 2040, 'seven': 2041, 'luck': 2042, 'dating': 2043, 'woa': 2044, 'hmm': 2045, 'pro': 2046, 'belongs': 2047, 'stage': 2048, 'ey': 2049, 'cleaner': 2050, 'glamour': 2051, 'cruelty': 2052, 'simplest': 2053, 'melody': 2054, 'rescue': 2055, 'sub': 2056, 'techs': 2057, 'fantasy': 2058, 'flown': 2059, 'beaches': 2060, \"lover's\": 2061, \"color's\": 2062, 'palette': 2063, 'profit': 2064, 'brushes': 2065, 'destiny': 2066, 'laughing': 2067, 'holding': 2068, \"darlin'\": 2069, 'heartache': 2070, 'sane': 2071, 'four': 2072, \"creepin'\": 2073, 'darling': 2074, 'wa': 2075, 'waste': 2076, 'written': 2077, 'im': 2078, 'shadows': 2079, 'shine': 2080, 'ought': 2081, 'pity': 2082, \"him's\": 2083, 'burga': 2084, 'homer': 2085, 'chair': 2086, 'choreograph': 2087, 'hours': 2088, 'playful': 2089, 'joyous': 2090, 'relaxing': 2091, 'unique': 2092, 'style': 2093, 'humble': 2094, 'mark': 2095, 'ladies': 2096, 'gentlemen': 2097, 'brian': 2098, 'newman': 2099, 'midnight': 2100, 'pen': 2101, 'dink': 2102, 'link': 2103, 'script': 2104, 'remembering': 2105, 'began': 2106, 'def': 2107, 'jam': 2108, 'drops': 2109, 'superwoman': 2110, 'shiny': 2111, 'range': 2112, 'rover': 2113, 'dinners': 2114, 'melted': 2115, 'ice': 2116, 'rapping': 2117, 'mr': 2118, 'california': 2119, 'page': 2120, 'stuff': 2121, 'himeros': 2122, 'sexes': 2123, 'natural': 2124, 'wreck': 2125, 'sechzehn': 2126, 'barely': 2127, 'crossing': 2128, \"joe's\": 2129, 'rides': 2130, 'stayed': 2131, 'acting': 2132, 'speaks': 2133, 'ferris': 2134, 'wheel': 2135, 'rule': 2136, 'wonders': 2137, 'selling': 2138, 'masterpiece': 2139, 'kings': 2140, 'dose': 2141, 'supposed': 2142, 'avoid': 2143, 'tea': 2144, 'detox': 2145, 'haha': 2146, 'anit': 2147, 'adrenaline': 2148, 'moving': 2149, 'addiction': 2150, 'eruption': 2151, 'remedy': 2152, 'feeding': 2153, 'dancefloor': 2154, 'bass': 2155, 'kicking': 2156, 'blazing': 2157, 'kissing': 2158, 'hardcore': 2159, 'juice': 2160, 'news': 2161, 'turning': 2162, 'measure': 2163, 'uhh': 2164, '1x': 2165, 'exactly': 2166, 'yearning': 2167, 'ahhhh': 2168, '2x': 2169, 'songs': 2170, 'sung': 2171, 'thousand': 2172, 'fill': 2173, 'hears': 2174, 'birds': 2175, 'rise': 2176, 'lake': 2177, 'trees': 2178, 'sigh': 2179, 'chime': 2180, 'flies': 2181, 'breeze': 2182, 'brook': 2183, 'trips': 2184, 'lark': 2185, 'learning': 2186, 'blessed': 2187, 'once': 2188, 'dresses': 2189, 'satin': 2190, 'sashes': 2191, 'snowflakes': 2192, 'nose': 2193, 'eyelashes': 2194, 'silver': 2195, 'winters': 2196, 'melt': 2197, 'springs': 2198, 'few': 2199, 'dog': 2200, 'bites': 2201, 'bee': 2202, 'stings': 2203, 'simply': 2204, 'bless': 2205, 'homeland': 2206, 'skinny': 2207, 'silk': 2208, 'taffeta': 2209, 'tailor': 2210, 'card': 2211, 'tiara': 2212, 'versace': 2213, 'promises': 2214, 'dolce': 2215, 'vita': 2216, 'runway': 2217, 'puke': 2218, 'salad': 2219, 'boulangerie': 2220, 'ask': 2221, 'advice': 2222, 'spray': 2223, 'holiday': 2224, 'taipei': 2225, \"shit's\": 2226, \"one's\": 2227, 'sanctuary': 2228, 'blood': 2229, 'ball': 2230, 'sacred': 2231, 'working': 2232, \"everybody's\": 2233, \"throwin'\": 2234, 'sisters': 2235, 'brothers': 2236, 'ago': 2237, 'jungle': 2238, 'dude': 2239, 'lab': 2240, 'prisms': 2241, 'forty': 2242, 'flood': 2243, 'rainbows': 2244, \"they've\": 2245, 'ideas': 2246, 'psychic': 2247, 'guru': 2248, 'catches': 2249, 'minnows': 2250, 'harbor': 2251, 'bought': 2252, 'year': 2253, \"stocking's\": 2254, 'spreading': 2255, 'rode': 2256, 'horses': 2257, 'sticks': 2258, 'seasons': 2259, 'changed': 2260, 'grew': 2261, 'rang': 2262, 'perfume': 2263, 'neck': 2264, 'slip': 2265, 'rinse': 2266, 'curl': 2267, 'loosen': 2268, 'squeeze': 2269, 'tease': 2270}\n",
            "2271\n"
          ],
          "name": "stdout"
        }
      ]
    },
    {
      "cell_type": "markdown",
      "metadata": {
        "id": "QnrwQd27Bwae"
      },
      "source": [
        "# Create Training Data\n",
        "\n",
        "This will split the input text into input sequences. It does it by breaking it into n-grams.\n"
      ]
    },
    {
      "cell_type": "code",
      "metadata": {
        "id": "soPGVheskaQP"
      },
      "source": [
        "input_sequences = []\n",
        "for line in corpus:\n",
        "\ttoken_list = tokenizer.texts_to_sequences([line])[0]\n",
        "\tfor i in range(1, len(token_list)):\n",
        "\t\tn_gram_sequence = token_list[:i+1]\n",
        "\t\tinput_sequences.append(n_gram_sequence)\n",
        "\n",
        "# pad sequences \n",
        "max_sequence_len = max([len(x) for x in input_sequences])\n",
        "input_sequences = np.array(pad_sequences(input_sequences, maxlen=max_sequence_len, padding='pre'))\n",
        "\n",
        "# create predictors and label\n",
        "xs, labels = input_sequences[:,:-1],input_sequences[:,-1]\n",
        "\n",
        "# created categorigal on-hot encoding labels\n",
        "ys = tf.keras.utils.to_categorical(labels, num_classes=total_words)"
      ],
      "execution_count": 7,
      "outputs": []
    },
    {
      "cell_type": "code",
      "metadata": {
        "id": "H4myRpB1c4Gg",
        "colab": {
          "base_uri": "https://localhost:8080/"
        },
        "outputId": "c9e2a6d8-25e7-4d52-a05e-c8c87b94ff85"
      },
      "source": [
        "print(tokenizer.word_index)"
      ],
      "execution_count": 8,
      "outputs": [
        {
          "output_type": "stream",
          "text": [
            "{'i': 1, 'you': 2, 'the': 3, 'a': 4, 'me': 5, 'my': 6, 'to': 7, 'and': 8, 'oh': 9, \"i'm\": 10, 'your': 11, 'that': 12, 'love': 13, 'be': 14, 'in': 15, 'on': 16, 'it': 17, \"don't\": 18, 'want': 19, 'just': 20, 'eh': 21, 'baby': 22, 'with': 23, 'of': 24, 'but': 25, 'we': 26, 'what': 27, 'wanna': 28, 'like': 29, 'do': 30, 'know': 31, 'so': 32, 'is': 33, 'this': 34, \"i'll\": 35, 'can': 36, \"you're\": 37, 'not': 38, \"can't\": 39, 'could': 40, 'p': 41, 'up': 42, 'one': 43, 'no': 44, 'good': 45, 'as': 46, 'got': 47, 'm': 48, 'for': 49, 'if': 50, 'million': 51, \"it's\": 52, 'way': 53, 'reasons': 54, 'all': 55, 'when': 56, 'heart': 57, 'hair': 58, 'dance': 59, 'gonna': 60, \"'cause\": 61, 'out': 62, 'la': 63, 'girl': 64, 'show': 65, 'ah': 66, 'face': 67, 'boys': 68, 'need': 69, 'muh': 70, 'touch': 71, 'yeah': 72, 'he': 73, 'was': 74, 'body': 75, 'come': 76, 'ha': 77, 'give': 78, 'down': 79, 'make': 80, 'tell': 81, 'take': 82, \"i've\": 83, 'were': 84, 'she': 85, 'read': 86, 'see': 87, \"won't\": 88, 'poker': 89, 'say': 90, 'doo': 91, 'night': 92, 'na': 93, 'man': 94, 'bad': 95, 'boy': 96, 'how': 97, 'at': 98, 'am': 99, 'something': 100, 'call': 101, 'feel': 102, 'time': 103, 'get': 104, 'tonight': 105, 'now': 106, 'teeth': 107, 'have': 108, 'let': 109, 'da': 110, \"let's\": 111, 'name': 112, 'go': 113, 'gaga': 114, 'ooh': 115, 'or': 116, 'put': 117, 'are': 118, 'hey': 119, 'game': 120, 'about': 121, 'her': 122, \"there's\": 123, 'stop': 124, 'think': 125, \"she's\": 126, 'edge': 127, 'yo': 128, 'babe': 129, \"'em\": 130, 'him': 131, 'u': 132, 'chorus': 133, 'around': 134, 'ale': 135, 'g': 136, 'hands': 137, 'marry': 138, 'will': 139, 'right': 140, 'enough': 141, 'alejandro': 142, 'cry': 143, 'walk': 144, 'dreams': 145, 'hot': 146, 'juda': 147, 'uh': 148, 'without': 149, 'y': 150, 'there': 151, 'away': 152, 'nothing': 153, 'video': 154, 'eyes': 155, 'through': 156, 'keep': 157, 'more': 158, 'back': 159, 'where': 160, 'die': 161, 'stay': 162, 'monster': 163, 'born': 164, 'thing': 165, 'play': 166, 'cause': 167, 'real': 168, 'artpop': 169, 'had': 170, 'still': 171, 'romance': 172, 'other': 173, 'beat': 174, 'off': 175, 'wish': 176, 'never': 177, 'aura': 178, 'everything': 179, 'free': 180, 'than': 181, 'sex': 182, 'gypsy': 183, 'try': 184, 'long': 185, 'who': 186, 'perfect': 187, 'chick': 188, 'bang': 189, 'our': 190, 'planet': 191, \"who's\": 192, 'fix': 193, 'his': 194, 'myself': 195, 'us': 196, 's': 197, 'cure': 198, 'always': 199, 'giving': 200, \"givin'\": 201, 'head': 202, 'even': 203, \"you'll\": 204, 'fashion': 205, 'life': 206, 'left': 207, 'phone': 208, 'alright': 209, 'from': 210, 'help': 211, 'ate': 212, 'behind': 213, 'find': 214, 'leave': 215, \"we're\": 216, 'guy': 217, 'gotta': 218, 'together': 219, 'applause': 220, 'really': 221, 'illusion': 222, 'paper': 223, 'track': 224, 'turn': 225, \"he's\": 226, 'nobody': 227, 'them': 228, 'dark': 229, 'scheiãÿe': 230, 'gangsta': 231, 'things': 232, 'promise': 233, 'run': 234, 'look': 235, 'makes': 236, 'some': 237, 'before': 238, 'alone': 239, 'here': 240, 'last': 241, 'else': 242, 'under': 243, 'inside': 244, 'forever': 245, 'better': 246, 'been': 247, 'after': 248, 'too': 249, 'watch': 250, 'world': 251, 'then': 252, 'meet': 253, \"goin'\": 254, 'hear': 255, 'until': 256, 'jandro': 257, 'little': 258, 'speak': 259, 'brown': 260, 'clair': 261, 'aus': 262, 'summer': 263, 'yes': 264, 'cut': 265, 'kiss': 266, 'friends': 267, 'said': 268, 'new': 269, 'its': 270, 'speechless': 271, 'feels': 272, 'happy': 273, 'someone': 274, 'greatest': 275, 'wrong': 276, 'would': 277, 'leather': 278, 'mah': 279, 'home': 280, 'live': 281, 'belong': 282, 'those': 283, 'both': 284, 'whoa': 285, 'while': 286, 'lady': 287, 'feeling': 288, 'wonder': 289, 'ma': 290, 'pray': 291, 'believe': 292, 'work': 293, 'talk': 294, 'wear': 295, 'disco': 296, 'fall': 297, 'okay': 298, 'seem': 299, 'hundred': 300, 'mean': 301, 'mine': 302, 'club': 303, 'high': 304, 'place': 305, 'over': 306, 'follow': 307, 'kind': 308, 'fun': 309, 'they': 310, 'control': 311, 'why': 312, 'judas': 313, 'mind': 314, 'damn': 315, 'huh': 316, 'each': 317, 'blow': 318, 'er': 319, 'loves': 320, 'swine': 321, 'handle': 322, 'care': 323, 'bow': 324, 'worst': 325, 'lord': 326, 'worn': 327, 'might': 328, 'hard': 329, 'record': 330, 'only': 331, 'cherry': 332, 'glory': 333, 'e': 334, 'lay': 335, 'own': 336, 'prayer': 337, 'apart': 338, 'venus': 339, 'light': 340, 'top': 341, 'christmas': 342, 'by': 343, 'should': 344, 'crazy': 345, 'mama': 346, 'hold': 347, 'second': 348, \"callin'\": 349, 'telephone': 350, 'again': 351, 'two': 352, 'another': 353, 'hell': 354, 'red': 355, \"you've\": 356, 'strong': 357, 'loud': 358, 'catch': 359, 'cured': 360, 'may': 361, 'caught': 362, 'sick': 363, \"ain't\": 364, 'party': 365, 'smoke': 366, 'fool': 367, 'an': 368, 'happens': 369, 'verse': 370, 'thought': 371, 'into': 372, 'these': 373, 'boots': 374, 'day': 375, 'living': 376, 'mirror': 377, \"smokin'\": 378, 'full': 379, 'starstruck': 380, 'downtown': 381, 'matter': 382, 'heal': 383, 'song': 384, 'rah': 385, 'ro': 386, 'floor': 387, 'lonely': 388, 'sure': 389, 'lights': 390, 'fernando': 391, \"we'll\": 392, 'duh': 393, 'looked': 394, \"'til\": 395, 'nasty': 396, 'heard': 397, 'making': 398, 'act': 399, 'maybe': 400, 'dum': 401, 'ye': 402, 'aha': 403, 'boom': 404, 'tap': 405, 'funk': 406, 'cover': 407, 'ever': 408, 'bitch': 409, 'sorry': 410, 'girls': 411, 'sometimes': 412, 'please': 413, 'cool': 414, 'drinks': 415, 'forgive': 416, 'fine': 417, 'guess': 418, 'bed': 419, '2': 420, 'sexxx': 421, 'wait': 422, 'best': 423, 'diamond': 424, 'dope': 425, \"bleedin'\": 426, \"needin'\": 427, 'every': 428, 'write': 429, 'made': 430, 'god': 431, 'truth': 432, 'religion': 433, 'any': 434, 'anymore': 435, 'reach': 436, \"dancin'\": 437, 'gold': 438, 'shit': 439, 'cigarette': 440, 'shot': 441, 'lost': 442, 'break': 443, 'fame': 444, 'telling': 445, 'ass': 446, \"doin'\": 447, 'forget': 448, \"wasn't\": 449, 'john': 450, \"lookin'\": 451, 'goddess': 452, 'ich': 453, 'schleiban': 454, 'austa': 455, 'es': 456, 'kumpent': 457, 'ã¼ske': 458, 'monstã¨re': 459, 'flaugen': 460, 'frã¤ulein': 461, 'uske': 462, 'ceiling': 463, 'sign': 464, 'hurt': 465, 'underneath': 466, 'brooklyn': 467, 'sing': 468, 'hush': 469, \"i'd\": 470, 'young': 471, 'lover': 472, 'drink': 473, 'nights': 474, 'lot': 475, 'buy': 476, 'papa': 477, 'paparazzi': 478, 'en': 479, 'broken': 480, 'fight': 481, \"hangin'\": 482, 'moment': 483, 'hit': 484, 'much': 485, 'holy': 486, 'l': 487, 'pop': 488, 'ride': 489, 'because': 490, 'leader': 491, 'squealer': 492, 'met': 493, 'americano': 494, 'flawless': 495, 'open': 496, 'used': 497, 'harder': 498, 'electric': 499, 'chapel': 500, 'ho': 501, 'side': 502, 'anything': 503, 'hills': 504, 'hand': 505, 'move': 506, 'yourself': 507, 'mi': 508, 'white': 509, 'busy': 510, 'three': 511, 'roberto': 512, \"that's\": 513, 'spin': 514, 'use': 515, 'ga': 516, 'end': 517, 'doing': 518, 'stick': 519, 'wants': 520, 'dont': 521, 'hope': 522, 'princess': 523, 'wayne': 524, 'blue': 525, 'falls': 526, 'music': 527, 'looking': 528, 'slay': 529, 'old': 530, 'pig': 531, 'cold': 532, 'america': 533, 'law': 534, 'sun': 535, 'nein': 536, 'zedd': 537, 'peek': 538, 'lives': 539, 'unpredictable': 540, 'unemotional': 541, 'donatella': 542, 'bite': 543, 'meat': 544, 'fangs': 545, 'pam': 546, 'tree': 547, 'quit': 548, 'highway': 549, 'stuck': 550, 'revenge': 551, 'lipstick': 552, 'kinda': 553, 'nebraska': 554, 'cars': 555, 'choose': 556, 'everybody': 557, 'knows': 558, 'same': 559, 'remember': 560, 'mouth': 561, 'bars': 562, 'cruel': 563, 'future': 564, \"something's\": 565, 'r': 566, 'boyfriend': 567, 'denim': 568, 'american': 569, 'wild': 570, 'seen': 571, 'mess': 572, 'space': 573, 'voice': 574, 'low': 575, 'funny': 576, 'groove': 577, 'flavor': 578, 'sound': 579, 'arms': 580, 'anyway': 581, 'rub': 582, 'favorite': 583, 'dry': 584, 'which': 585, 'parts': 586, 'faith': 587, 'lovers': 588, 'set': 589, 'rejoice': 590, 'did': 591, \"sippin'\": 592, 'bub': 593, 'faster': 594, 'number': 595, 'rock': 596, 'money': 597, 'woman': 598, 'ready': 599, 'lose': 600, 'dad': 601, 'start': 602, 'going': 603, \"tryin'\": 604, 'tomorrow': 605, 'stand': 606, 'friend': 607, 'king': 608, 'plause': 609, 'scream': 610, 'art': 611, 'weekend': 612, 'naked': 613, 'streets': 614, 'burn': 615, 'hairspray': 616, 'school': 617, 'change': 618, 'bare': 619, 'mistaken': 620, 'somewhere': 621, 'ya': 622, 'stars': 623, 'single': 624, 'fare': 625, 'gone': 626, \"body's\": 627, \"pleadin'\": 628, 'breathe': 629, \"sinner's\": 630, 'slam': 631, 'save': 632, 'pain': 633, \"singin'\": 634, 'circles': 635, 'lift': 636, 'beating': 637, \"ev'ry\": 638, 'voodoo': 639, \"that'll\": 640, 'delicious': 641, 'manicured': 642, 'fancy': 643, 'yours': 644, 'close': 645, 'cycle': 646, 'stare': 647, 'stopped': 648, 'breathing': 649, 'completely': 650, 'aware': 651, 'fathom': 652, 'heartbreak': 653, 'glass': 654, 'listen': 655, 'hide': 656, 'queen': 657, 'insecure': 658, 'black': 659, 'today': 660, 'straight': 661, 'check': 662, 'heels': 663, 'first': 664, 'years': 665, 'clothes': 666, 'whole': 667, 'pay': 668, 'jesus': 669, 'chase': 670, \"we'd\": 671, 'famous': 672, 'point': 673, 'fire': 674, 'rush': 675, \"isn't\": 676, 'gun': 677, \"what's\": 678, 'done': 679, 'shawty': 680, 'round': 681, 'half': 682, 'psychotic': 683, 'lies': 684, 'bring': 685, 'pull': 686, '1': 687, 'bridge': 688, 'bust': 689, 'mission': 690, 'street': 691, 'has': 692, 'german': 693, 'their': 694, 'dream': 695, 'ecstasy': 696, 'cowboy': 697, 'girlfriend': 698, 'bikini': 699, 'paint': 700, 'somebody': 701, 'stones': 702, 'mountain': 703, 'sweet': 704, 're': 705, 'marlboro': 706, 'em': 707, 'drop': 708, 'though': 709, 'nice': 710, 'sad': 711, 'goes': 712, \"didn't\": 713, 'air': 714, 'rich': 715, 'ill': 716, 'wont': 717, 'drum': 718, 'champagne': 719, 'figure': 720, 'onto': 721, 'addicted': 722, 'desire': 723, 'lo': 724, 'je': 725, 'h': 726, 'far': 727, 'drag': 728, 'must': 729, 'broke': 730, 'cannot': 731, \"telephonin'\": 732, 'since': 733, 'came': 734, 'leaving': 735, 'sit': 736, 'bar': 737, 'roll': 738, 'c': 739, 'coming': 740, 'biggest': 741, 'fan': 742, 'dancing': 743, 'mexico': 744, 'bother': 745, 'does': 746, 'hypnotic': 747, 'blueprint': 748, 'clean': 749, 'bleed': 750, 'tight': 751, 'line': 752, 'wow': 753, \"we've\": 754, 'death': 755, 'crown': 756, 'dead': 757, 'beyond': 758, 'gets': 759, 'shoes': 760, 'saying': 761, 'cheer': 762, 'thinking': 763, 'trashy': 764, 'pre': 765, 'miss': 766, 'sexy': 767, 'kick': 768, 'road': 769, 'goodbye': 770, 'trying': 771, \"watchin'\": 772, 'falling': 773, 'modern': 774, 'fast': 775, 'big': 776, 'tramp': 777, 'vamp': 778, 'aphrodite': 779, 'alive': 780, 'human': 781, 'squeal': 782, 'disgusting': 783, 'above': 784, 'tops': 785, 'son': 786, 'rain': 787, 'walks': 788, 'bottle': 789, 'wine': 790, 'having': 791, 'clouds': 792, 'higher': 793, 'getting': 794, 'shoot': 795, 'great': 796, 'filter': 797, 'bump': 798, 'forth': 799, 'star': 800, 'wake': 801, 'sexual': 802, 'power': 803, 'cosmic': 804, \"talkin'\": 805, 'press': 806, 'film': 807, 'cameo': 808, \"gon'\": 809, 'ones': 810, 'tried': 811, 'easy': 812, 'cher': 813, 'wings': 814, 'whose': 815, 'monkey': 816, 'papers': 817, 'business': 818, 'interested': 819, 'fakers': 820, 'voo': 821, 'don': 822, 'ra': 823, 'pa': 824, 'falalalalalalala': 825, 'undress': 826, 'tired': 827, 'asleep': 828, 'feet': 829, 'legs': 830, 'wrote': 831, 'passion': 832, \"doesn't\": 833, \"lovin'\": 834, 'beautiful': 835, 'mistakes': 836, 'regret': 837, 'different': 838, 'called': 839, 'answer': 840, \"takin'\": 841, 'calls': 842, \"couldn't\": 843, 'sang': 844, 'men': 845, 'york': 846, 'jeans': 847, 'means': 848, 'superstar': 849, 'flames': 850, 'reason': 851, 'dangerous': 852, 'raise': 853, 'spades': 854, 'pair': 855, 'russian': 856, 'many': 857, 'electronic': 858, 'slow': 859, 'ow': 860, 'brain': 861, 'sense': 862, 'burns': 863, 'being': 864, 'dirty': 865, 'aah': 866, 'naughty': 867, 'stone': 868, 'color': 869, 'couple': 870, '3': 871, 'loose': 872, 'climb': 873, 'special': 874, 'morning': 875, 'wandering': 876, 'took': 877, 'nowhere': 878, 'asked': 879, 'honey': 880, 'freak': 881, 'swear': 882, 'spirit': 883, 'least': 884, 'city': 885, 'fucked': 886, 'tells': 887, 'instead': 888, 'looks': 889, 'bedroom': 890, 'galaxy': 891, 'oyster': 892, 'serve': 893, 'mars': 894, 'sweat': 895, 'dress': 896, 'couture': 897, 'word': 898, 'deep': 899, 'skin': 900, 'permission': 901, 'blonde': 902, 'crucify': 903, 'bloody': 904, 'mary': 905, 'jesãºs': 906, 'cristo': 907, \"ceilin'\": 908, 'hate': 909, \"go'n\": 910, 'five': 911, 'ten': 912, \"c'mon\": 913, 'empty': 914, 'feast': 915, 'rhyme': 916, 'bitches': 917, 'pussy': 918, 'd': 919, 'lines': 920, 'waist': 921, 'fader': 922, 'original': 923, 'trip': 924, 'suppose': 925, 'green': 926, 'taking': 927, 'lets': 928, 'cute': 929, 'well': 930, 'lie': 931, 'wondering': 932, 'ford': 933, 'scared': 934, 'outro': 935, 'former': 936, 'trunk': 937, 'hahahaha': 938, 'size': 939, 'burqa': 940, 'pleasure': 941, 'hustlas': 942, \"walkin'\": 943, \"sayin'\": 944, 'smell': 945, 'repeat': 946, 'hurting': 947, 'bones': 948, \"in'\": 949, 'youre': 950, 'permanently': 951, 'thoughts': 952, 'ways': 953, 'learn': 954, 'laugh': 955, 'till': 956, 'such': 957, 'dita': 958, 'diva': 959, 'rainbow': 960, 'spring': 961, 'season': 962, 'radiate': 963, 'magic': 964, 'misunderstood': 965, 'nah': 966, 'direction': 967, 'tied': 968, 'whatcha': 969, 'salvation': 970, 'steal': 971, 'safe': 972, 'ground': 973, 'awful': 974, \"salon's\": 975, 'manicure': 976, \"care'n\": 977, 'garner': 978, 'serial': 979, 'killer': 980, 'goner': 981, 'lullaby': 982, 'ugly': 983, 'sand': 984, 'rear': 985, \"j'veux\": 986, 'ton': 987, 'amour': 988, 'veux': 989, 'capital': 990, 'paws': 991, 'told': 992, 'boudoir': 993, \"nothin'\": 994, 'subway': 995, 'whether': 996, 'beige': 997, 'chola': 998, 'orient': 999, 'gay': 1000, 'hello': 1001, 'service': 1002, 'wha': 1003, 'breaking': 1004, 'k': 1005, \"they're\": 1006, 'shoulda': 1007, 'plans': 1008, 'knew': 1009, 'coat': 1010, 'town': 1011, 'taste': 1012, 'whiskey': 1013, 'corner': 1014, 'couch': 1015, 'joke': 1016, 'muscle': 1017, 'house': 1018, 'six': 1019, 'rather': 1020, 'true': 1021, 'picture': 1022, 'price': 1023, 'yellow': 1024, 'lashes': 1025, 'loving': 1026, 'snap': 1027, 'hides': 1028, 'su': 1029, 'bolsillo': 1030, 'halo': 1031, 'finger': 1032, \"boyfriend's\": 1033, 'bye': 1034, 'push': 1035, 'final': 1036, 'texas': 1037, 'plays': 1038, 'fold': 1039, 'intuition': 1040, 'cards': 1041, 'hooked': 1042, 'gambling': 1043, 'roulette': 1044, 'rough': 1045, 'hug': 1046, 'bluffing': 1047, 'muffin': 1048, 'lying': 1049, 'stunning': 1050, 'glue': 1051, \"gunnin'\": 1052, 'casino': 1053, 'bank': 1054, 'marvelous': 1055, 'bit': 1056, 'people': 1057, 'keys': 1058, 'shut': 1059, 'poison': 1060, 'pick': 1061, 'car': 1062, 'energy': 1063, 'hips': 1064, 'okayay': 1065, 'symphonic': 1066, 'carve': 1067, 'drive': 1068, 'spend': 1069, 'gave': 1070, 'bubble': 1071, 'complicated': 1072, 'loser': 1073, 'hearts': 1074, 'wrecked': 1075, 'promised': 1076, 'company': 1077, 'needs': 1078, 'darkness': 1079, 'brick': 1080, 'build': 1081, 'sink': 1082, 'vomits': 1083, 'next': 1084, 'pulling': 1085, 'cling': 1086, 'iv': 1087, 'found': 1088, 'kunst': 1089, 'culture': 1090, 't': 1091, 'quarrel': 1092, 'hurts': 1093, 'convicted': 1094, 'criminals': 1095, 'glove': 1096, 'evidence': 1097, 'petrified': 1098, 'swimming': 1099, 'pool': 1100, 'laughs': 1101, 'minute': 1102, 'seconds': 1103, 'staring': 1104, 'smile': 1105, 'story': 1106, 'winner': 1107, 'explore': 1108, 'throw': 1109, 'twice': 1110, 'tan': 1111, 'bells': 1112, 'el': 1113, 'front': 1114, 'shush': 1115, 'saw': 1116, 'ferrari': 1117, 'everyone': 1118, 'simple': 1119, 'pack': 1120, 'paris': 1121, 'mom': 1122, 'chance': 1123, 'felt': 1124, 'dilated': 1125, 'confusion': 1126, 'hang': 1127, \"hollerin'\": 1128, 'beer': 1129, 'moonlight': 1130, 'games': 1131, 'crave': 1132, 'strung': 1133, \"man's\": 1134, 'cried': 1135, 'storm': 1136, 'amaze': 1137, 'honestly': 1138, \"she'd\": 1139, 'mumbled': 1140, \"might've\": 1141, 'quite': 1142, 'recall': 1143, 'french': 1144, 'says': 1145, 'grin': 1146, 'moon': 1147, 'marilyn': 1148, 'blond': 1149, 'freedom': 1150, 'seashell': 1151, 'earth': 1152, \"heaven's\": 1153, \"wouldn't\": 1154, 'thin': 1155, 'room': 1156, 'diamonds': 1157, 'pearls': 1158, 'married': 1159, 'designer': 1160, \"love's\": 1161, 'haute': 1162, 'went': 1163, 'older': 1164, 'silly': 1165, 'whatever': 1166, 'rebuke': 1167, 'condition': 1168, 'female': 1169, 'prove': 1170, 'fell': 1171, \"sp'\": 1172, 'coast': 1173, 'language': 1174, 'fought': 1175, 'estã¡n': 1176, 'los': 1177, 'chicos': 1178, 'chicas': 1179, \"somethin'\": 1180, \"girl's\": 1181, 'tough': 1182, \"daddy's\": 1183, 'worth': 1184, 'tears': 1185, 'bend': 1186, 'affair': 1187, 'pretty': 1188, 'mad': 1189, 'knees': 1190, 'beg': 1191, 'cheap': 1192, \"feelin'\": 1193, 'thats': 1194, 'complete': 1195, 'wobble': 1196, 'wo': 1197, 'niggas': 1198, 'benji': 1199, 'cash': 1200, 'clearly': 1201, 'admit': 1202, 'twelve': 1203, 'request': 1204, 'dre': 1205, 'headphones': 1206, 'scratch': 1207, 'breakdown': 1208, 'ke': 1209, 'ive': 1210, \"poppin'\": 1211, 'complica': 1212, 'greetings': 1213, 'audio': 1214, 'guides': 1215, 'exciting': 1216, 'positions': 1217, 'grave': 1218, 'tie': 1219, \"aimin'\": 1220, 'retweet': 1221, 'cuz': 1222, 'comes': 1223, 'phase': 1224, 'rams': 1225, 'atmosphere': 1226, 'shy': 1227, 'charge': 1228, 'achtzehn': 1229, 'fourteen': 1230, 'vierzehn': 1231, 'drei': 1232, 'eins': 1233, 'ok': 1234, 'print': 1235, 'kelly': 1236, 'private': 1237, 'killed': 1238, 'knife': 1239, 'hood': 1240, 'send': 1241, 'hollywood': 1242, 'slave': 1243, 'choice': 1244, 'veil': 1245, 'protection': 1246, 'gorgeousness': 1247, 'enigma': 1248, 'statement': 1249, 'soil': 1250, 'screaming': 1251, 'toil': 1252, 'curtain': 1253, 'hanging': 1254, 'hubba': 1255, 'win': 1256, 'b': 1257, 'sees': 1258, 'bleach': 1259, 'swallow': 1260, 'peroxide': 1261, 'wrapped': 1262, 'queens': 1263, 'trick': 1264, 'pretend': 1265, 'sins': 1266, 'awake': 1267, 'bell': 1268, 'bottom': 1269, 'searching': 1270, 'spirits': 1271, 'soul': 1272, 'fit': 1273, 'loved': 1274, 'already': 1275, 'purse': 1276, 'adieu': 1277, 'self': 1278, \"'bout\": 1279, 'hybrid': 1280, 'withstand': 1281, 'bricks': 1282, 'strings': 1283, 'fly': 1284, 'sell': 1285, 'create': 1286, 'bling': 1287, 'everyday': 1288, 'cab': 1289, 'bowery': 1290, 'held': 1291, 'seventeen': 1292, 'yall': 1293, 'listening': 1294, 'tech': 1295, 'strange': 1296, 'behaving': 1297, 'accept': 1298, 'less': 1299, 'fabulous': 1300, 'words': 1301, 'played': 1302, 'towel': 1303, 'aiming': 1304, 'retreat': 1305, 'past': 1306, 'meant': 1307, 'deal': 1308, 'guilt': 1309, 'sip': 1310, 'runaway': 1311, 'ultra': 1312, 'sprung': 1313, 'dancer': 1314, 'box': 1315, 'affliction': 1316, 'leaves': 1317, 'wanting': 1318, 'perfectly': 1319, 'stickss': 1320, 'chains': 1321, 'whips': 1322, 'excite': 1323, 'ahh': 1324, 'church': 1325, 'edelweiss': 1326, 'stream': 1327, 'fab': 1328, 'smokin': 1329, 'tank': 1330, 'gas': 1331, 'bella': 1332, 'upper': 1333, 'class': 1334, 'pearl': 1335, 'reds': 1336, 'addictions': 1337, 'guidance': 1338, 'pure': 1339, 'prisons': 1340, 'exist': 1341, 'mistletoe': 1342, 'falalalala': 1343, 'wore': 1344, \"comin'\": 1345, \"'round\": 1346, 'medicine': 1347, 'disease': 1348, 'drama': 1349, 'studded': 1350, 'oooh': 1351, 'horror': 1352, 'design': 1353, 'criminal': 1354, 'psycho': 1355, 'vertigo': 1356, 'shtick': 1357, 'window': 1358, 'et': 1359, 'ta': 1360, 'revanche': 1361, 'superstars': 1362, 'rolled': 1363, 'prudence': 1364, 'kid': 1365, 'respect': 1366, 'youth': 1367, 'sin': 1368, 'amore': 1369, 'vole': 1370, 'fe': 1371, 'yah': 1372, 'evergreen': 1373, 'descent': 1374, 'lebanese': 1375, \"life's\": 1376, 'disabilities': 1377, 'outcast': 1378, 'bullied': 1379, 'teased': 1380, 'bi': 1381, 'lesbian': 1382, 'transgendered': 1383, 'survive': 1384, 'brave': 1385, 'text': 1386, 'calling': 1387, \"blowin'\": 1388, 'disaster': 1389, 'collector': 1390, \"ringin'\": 1391, 'grand': 1392, 'central': 1393, 'station': 1394, 'reached': 1395, 'doll': 1396, 'drove': 1397, 'truck': 1398, 'birthday': 1399, 'guitar': 1400, 'humming': 1401, 'rent': 1402, 'heaven': 1403, 'certain': 1404, 'daddy': 1405, 'christ': 1406, 'knowing': 1407, 'crowd': 1408, 'flash': 1409, 'magical': 1410, 'fantastical': 1411, 'glamorous': 1412, 'photo': 1413, 'flashing': 1414, 'backstage': 1415, 'velvet': 1416, 'ropes': 1417, 'guitars': 1418, 'rockstar': 1419, 'between': 1420, 'sets': 1421, 'eyeliner': 1422, 'cigarettes': 1423, 'shadow': 1424, 'burnt': 1425, 'purple': 1426, 'teardrops': 1427, 'pie': 1428, 'studio': 1429, 'radio': 1430, 'anyone': 1431, 'plastic': 1432, 'pocket': 1433, 'burned': 1434, 'hoo': 1435, \"limit's\": 1436, 'shades': 1437, 'konvict': 1438, 'woah': 1439, 'twist': 1440, 'playboy': 1441, \"how'd\": 1442, 'shirt': 1443, 'roses': 1444, 'thorns': 1445, \"gettin'\": 1446, 'hosed': 1447, \"checkin'\": 1448, 'catalog': 1449, 'women': 1450, 'flaw': 1451, 'steady': 1452, 'flex': 1453, \"'till\": 1454, 'twirling': 1455, 'meantime': 1456, 'hustle': 1457, 'lysol': 1458, 'dough': 1459, 'pocko': 1460, 'threw': 1461, 'james': 1462, 'dean': 1463, 'glossy': 1464, 'stained': 1465, 'punch': 1466, 'slurred': 1467, 'wired': 1468, 'jaw': 1469, 'popped': 1470, 'seams': 1471, 'johnnie': 1472, 'walker': 1473, 'rye': 1474, 'mend': 1475, 'along': 1476, 'wash': 1477, 'tongue': 1478, 'times': 1479, 'betrays': 1480, 'purely': 1481, 'forgave': 1482, 'goofy': 1483, 'learned': 1484, 'most': 1485, 'biblical': 1486, 'repentance': 1487, 'hooker': 1488, 'prostitute': 1489, 'wench': 1490, 'cultural': 1491, 'tense': 1492, 'offenced': 1493, 'ear': 1494, 'condom': 1495, 'virtue': 1496, 'demon': 1497, 'crashes': 1498, 'rope': 1499, 'standing': 1500, 'waiting': 1501, 'gong': 1502, 'crash': 1503, 'critics': 1504, 'bear': 1505, 'vein': 1506, 'overheard': 1507, 'theory': 1508, \"nostalgia's\": 1509, 'geeks': 1510, 'sir': 1511, 'suddenly': 1512, \"art's\": 1513, 'o': 1514, '4x': 1515, 'heads': 1516, 'speaking': 1517, 'giggles': 1518, 'itunes': 1519, 'festival': 1520, 'poetry': 1521, 'rhymed': 1522, 'bodies': 1523, \"now's\": 1524, 'trial': 1525, 'doubts': 1526, 'drawls': 1527, 'stupid': 1528, 'squeezed': 1529, 'cupid': 1530, 'involves': 1531, 'heavy': 1532, 'touching': 1533, 'indicated': 1534, 'interest': 1535, 'educated': 1536, 'across': 1537, 'block': 1538, 'starts': 1539, 'warrior': 1540, 'passionately': 1541, 'stark': 1542, 'soldier': 1543, 'emptiness': 1544, 'lace': 1545, 'cruise': 1546, 'fishnet': 1547, 'gloves': 1548, 'sinner': 1549, 'bartender': 1550, \"nothing's\": 1551, 'skeleton': 1552, 'guns': 1553, 'wedding': 1554, 'attic': 1555, 'ginger': 1556, 'camino': 1557, 'poke': 1558, 'holes': 1559, 'seats': 1560, 'hole': 1561, 'explode': 1562, 'ohh': 1563, 'pockets': 1564, 'draw': 1565, 'sugar': 1566, 'glitter': 1567, 'mixed': 1568, 'glamaphonic': 1569, 'retro': 1570, 'sneakers': 1571, 'killers': 1572, 'bleachers': 1573, \"buddy's\": 1574, 'dj': 1575, 'ashtray': 1576, 'dramatic': 1577, 'eggs': 1578, 'packed': 1579, 'baggage': 1580, 'family': 1581, 'dorothy': 1582, 'ruby': 1583, 'quick': 1584, 'treat': 1585, 'mother': 1586, 'bags': 1587, 'sunset': 1588, 'view': 1589, 'jets': 1590, 'russia': 1591, 'uk': 1592, 'italian': 1593, 'asian': 1594, 'kompai': 1595, 'africa': 1596, 'india': 1597, 'latin': 1598, 'someday': 1599, 'jakarta': 1600, 'bangkok': 1601, 'australia': 1602, 'malaysia': 1603, 'sweden': 1604, 'finland': 1605, 'norway': 1606, 'whenever': 1607, 'dressed': 1608, 'parents': 1609, 'short': 1610, 'identity': 1611, 'waltz': 1612, 'highlights': 1613, 'dynamite': 1614, 'friday': 1615, 'rocks': 1616, 'bangs': 1617, 'lots': 1618, 'invite': 1619, 'parties': 1620, 'ashamed': 1621, \"pressure's\": 1622, 'toll': 1623, 'middle': 1624, 'zone': 1625, 'guessing': 1626, \"touchin'\": 1627, 'amphetamine': 1628, 'crush': 1629, \"wakin'\": 1630, 'horse': 1631, 'mustang': 1632, \"speedin'\": 1633, 'headed': 1634, \"runnin'\": 1635, 'rubber': 1636, \"spinnin'\": 1637, 'swig': 1638, 'toss': 1639, 'lit': 1640, \"prayin'\": 1641, 'collar': 1642, 'state': 1643, 'treasure': 1644, 'junkie': 1645, 'bender': 1646, 'grip': 1647, 'glare': 1648, 'trouble': 1649, 'mug': 1650, 'charged': 1651, 'gears': 1652, \"shiftin'\": 1653, \"racin'\": 1654, 'eye': 1655, 'knock': 1656, 'wolf': 1657, 'disguise': 1658, 'evil': 1659, 'licked': 1660, 'lips': 1661, 'eat': 1662, 'kissed': 1663, 'train': 1664, 'tore': 1665, 'silicone': 1666, 'saline': 1667, 'inject': 1668, 'stressed': 1669, 'vampire': 1670, \"howlin'\": 1671, 'kills': 1672, 'judy': 1673, 'sylvia': 1674, 'jean': 1675, 'benet': 1676, 'ramsey': 1677, 'haunt': 1678, 'liberace': 1679, 'kubrick': 1680, 'diana': 1681, 'rocket': 1682, '9': 1683, 'garden': 1684, 'panty': 1685, 'blast': 1686, 'dimension': 1687, 'aphrod': 1688, 'isy': 1689, 'sleazy': 1690, 'worship': 1691, 'land': 1692, 'neptune': 1693, 'pluto': 1694, 'saturn': 1695, 'jupiter': 1696, 'mercury': 1697, 'uranus': 1698, 'gods': 1699, 'joanne': 1700, 'part': 1701, 'aching': 1702, 'angels': 1703, \"you'd\": 1704, \"movin'\": 1705, 'soar': 1706, 'step': 1707, 'catwalk': 1708, 'singing': 1709, 'tune': 1710, 'talking': 1711, 'display': 1712, 'transform': 1713, 'material': 1714, 'zip': 1715, \"look's\": 1716, 'ethereal': 1717, 'sens': 1718, 'donnez': 1719, 'moi': 1720, 'christian': 1721, 'louboutins': 1722, 'le': 1723, 'monde': 1724, 'est': 1725, 'tã©moin': 1726, \"c'est\": 1727, 'vie': 1728, 'suis': 1729, 'walked': 1730, 'soft': 1731, 'grab': 1732, 'tricks': 1733, 'surprise': 1734, 'ani': 1735, 'mal': 1736, 'shrew': 1737, 'hog': 1738, 'jiggle': 1739, 'slap': 1740, 'wiggle': 1741, 'objectified': 1742, 'bullshit': 1743, 'heeled': 1744, 'feminist': 1745, 'enlisting': 1746, 'femmes': 1747, 'express': 1748, 'history': 1749, \"religion's\": 1750, 'pontius': 1751, 'kill': 1752, 'upon': 1753, 'throne': 1754, 'michelangelo': 1755, 'rewrite': 1756, 'aggro': 1757, 'furied': 1758, 'ne': 1759, 'pas': 1760, 'mourir': 1761, 'toute': 1762, 'seule': 1763, 'liberdad': 1764, 'amor': 1765, 'east': 1766, 'floral': 1767, 'shorts': 1768, 'eights': 1769, 'barrio': 1770, 'chords': 1771, 'court': 1772, 'mis': 1773, 'canciones': 1774, 'de': 1775, 'revoluciã³n': 1776, 'corazã³n': 1777, 'duele': 1778, 'por': 1779, 'generaciã³n': 1780, 'west': 1781, 'wednesday': 1782, 'verano': 1783, 'agosto': 1784, 'mountains': 1785, 'las': 1786, 'campanas': 1787, 'sonando': 1788, 'todos': 1789, 'besando': 1790, 'rev': 1791, \"tearin'\": 1792, 'gravel': 1793, 'unravel': 1794, 'cast': 1795, 'spell': 1796, 'covered': 1797, 'gravy': 1798, 'southern': 1799, \"drippin'\": 1800, 'blaze': 1801, 'rail': 1802, 'shook': 1803, 'fake': 1804, 'laced': 1805, 'asshole': 1806, 'innocence': 1807, 'jameson': 1808, \"playin'\": 1809, 'soon': 1810, 'lavender': 1811, 'moves': 1812, 'silence': 1813, 'vain': 1814, 'allow': 1815, 'gloss': 1816, \"draggin'\": 1817, 'wearing': 1818, 'scene': 1819, 'devil': 1820, 'blame': 1821, 'sister': 1822, 'breaks': 1823, 'knockoff': 1824, 'piece': 1825, 'fulton': 1826, 'gift': 1827, 'thirsty': 1828, 'brink': 1829, 'throws': 1830, 'carry': 1831, 'ghosts': 1832, 'lately': 1833, 'naughtier': 1834, 'usual': 1835, 'mention': 1836, 'loveth': 1837, 'nicki': 1838, 'minaj': 1839, 'wobbledy': 1840, \"wobbin'\": 1841, 'fat': 1842, 'pussies': 1843, \"throbbin'\": 1844, 'phantom': 1845, 'meter': 1846, 'eater': 1847, 'squeaky': 1848, 'geeky': 1849, 'mandingo': 1850, 'dashiki': 1851, 'islands': 1852, 'waikii': 1853, 'iggy': 1854, 'azalea': 1855, 'pole': 1856, 'college': 1857, 'supportin': 1858, 'hottest': 1859, 'benjamin': 1860, 'topic': 1861, 'bounce': 1862, 'speed': 1863, 'ripped': 1864, '19': 1865, 'headset': 1866, 'mute': 1867, 'physical': 1868, 'ring': 1869, 'recommend': 1870, \"rollin'\": 1871, \"stylin'\": 1872, \"freakin'\": 1873, 'fantasize': 1874, \"tweakin'\": 1875, 'cue': 1876, 'table': 1877, 'playlist': 1878, 'reverse': 1879, \"lil'\": 1880, 'mamma': 1881, 'rims': 1882, 'enter': 1883, 'flow': 1884, 'signature': 1885, 'adjust': 1886, 'dotted': 1887, 'fanatic': 1888, 'struck': 1889, 'gal': 1890, 'overdose': 1891, 'starbucks': 1892, 'balla': 1893, 'stack': 1894, 'taller': 1895, 'notice': 1896, 'chevy': 1897, 'impala': 1898, 'hummers': 1899, 'fully': 1900, 'loaded': 1901, 'spoilers': 1902, 'showed': 1903, 'dollars': 1904, 'chapter': 1905, 'bachelor': 1906, 'spotted': 1907, 'actor': 1908, 'swagga': 1909, 'dagga': 1910, 'happily': 1911, 'list': 1912, 'pretending': 1913, 'glasses': 1914, 'martini': 1915, 'glistens': 1916, 'checking': 1917, 'guys': 1918, 'hurry': 1919, 'eros': 1920, 'unearth': 1921, 'makeup': 1922, 'mount': 1923, \"mars'\": 1924, 'warm': 1925, 'wrap': 1926, 'sechzen': 1927, 'early': 1928, 'longer': 1929, 'tom': 1930, 'flights': 1931, 'schedule': 1932, 'trade': 1933, 'cup': 1934, 'blunt': 1935, 'pusher': 1936, 'escape': 1937, 'president': 1938, 'shots': 1939, 'invitations': 1940, 'haters': 1941, 'roughing': 1942, 'fuck': 1943, 'fade': 1944, '10': 1945, \"them's\": 1946, 'popstar': 1947, 'watcha': 1948, 'approach': 1949, 'fresh': 1950, 'pants': 1951, 'grown': 1952, \"soundin'\": 1953, 'convince': 1954, 'swagger': 1955, 'blade': 1956, 'cologne': 1957, 'cancelled': 1958, 'bag': 1959, 'nails': 1960, \"frontin'\": 1961, \"wantin'\": 1962, 'screen': 1963, \"flashin'\": 1964, 'receiver': 1965, 'oscar': 1966, 'gene': 1967, 'brando': 1968, \"i'mma\": 1969, 'gs': 1970, \"'specially\": 1971, 'atlanta': 1972, 'houston': 1973, 'orleans': 1974, \"breakin'\": 1975, 'focus': 1976, \"ballin'\": 1977, 'shake': 1978, \"likin'\": 1979, 'position': 1980, 'tape': 1981, 'hustla': 1982, 'coffin': 1983, 'photograph': 1984, 'laying': 1985, 'knives': 1986, 'hungry': 1987, 'anorexic': 1988, 'very': 1989, 'smart': 1990, 'silks': 1991, 'egyptian': 1992, 'cope': 1993, 'pills': 1994, 'note': 1995, 'post': 1996, 'boyfriends': 1997, 'limo': 1998, 'proposed': 1999, '16': 2000, 'carat': 2001, 'rose': 2002, 'applaud': 2003, 'approve': 2004, 'pass': 2005, 'breath': 2006, 'recognize': 2007, 'swirl': 2008, 'clicks': 2009, 'vanish': 2010, \"cork's\": 2011, \"party's\": 2012, 'begun': 2013, 'toast': 2014, 'puff': 2015, 'regrets': 2016, 'steps': 2017, 'stairway': 2018, 'coal': 2019, 'seemed': 2020, 'grow': 2021, \"it'd\": 2022, 'f': 2023, 'bus': 2024, 'chandelier': 2025, \"'member\": 2026, 'hung': 2027, 'rocky': 2028, 'scored': 2029, 'brigitte': 2030, \"nielsen's\": 2031, 'champion': 2032, 'won': 2033, 'cracked': 2034, \"i'ts\": 2035, 'opened': 2036, 'lockup': 2037, 'shared': 2038, 'jerk': 2039, 'brush': 2040, 'seven': 2041, 'luck': 2042, 'dating': 2043, 'woa': 2044, 'hmm': 2045, 'pro': 2046, 'belongs': 2047, 'stage': 2048, 'ey': 2049, 'cleaner': 2050, 'glamour': 2051, 'cruelty': 2052, 'simplest': 2053, 'melody': 2054, 'rescue': 2055, 'sub': 2056, 'techs': 2057, 'fantasy': 2058, 'flown': 2059, 'beaches': 2060, \"lover's\": 2061, \"color's\": 2062, 'palette': 2063, 'profit': 2064, 'brushes': 2065, 'destiny': 2066, 'laughing': 2067, 'holding': 2068, \"darlin'\": 2069, 'heartache': 2070, 'sane': 2071, 'four': 2072, \"creepin'\": 2073, 'darling': 2074, 'wa': 2075, 'waste': 2076, 'written': 2077, 'im': 2078, 'shadows': 2079, 'shine': 2080, 'ought': 2081, 'pity': 2082, \"him's\": 2083, 'burga': 2084, 'homer': 2085, 'chair': 2086, 'choreograph': 2087, 'hours': 2088, 'playful': 2089, 'joyous': 2090, 'relaxing': 2091, 'unique': 2092, 'style': 2093, 'humble': 2094, 'mark': 2095, 'ladies': 2096, 'gentlemen': 2097, 'brian': 2098, 'newman': 2099, 'midnight': 2100, 'pen': 2101, 'dink': 2102, 'link': 2103, 'script': 2104, 'remembering': 2105, 'began': 2106, 'def': 2107, 'jam': 2108, 'drops': 2109, 'superwoman': 2110, 'shiny': 2111, 'range': 2112, 'rover': 2113, 'dinners': 2114, 'melted': 2115, 'ice': 2116, 'rapping': 2117, 'mr': 2118, 'california': 2119, 'page': 2120, 'stuff': 2121, 'himeros': 2122, 'sexes': 2123, 'natural': 2124, 'wreck': 2125, 'sechzehn': 2126, 'barely': 2127, 'crossing': 2128, \"joe's\": 2129, 'rides': 2130, 'stayed': 2131, 'acting': 2132, 'speaks': 2133, 'ferris': 2134, 'wheel': 2135, 'rule': 2136, 'wonders': 2137, 'selling': 2138, 'masterpiece': 2139, 'kings': 2140, 'dose': 2141, 'supposed': 2142, 'avoid': 2143, 'tea': 2144, 'detox': 2145, 'haha': 2146, 'anit': 2147, 'adrenaline': 2148, 'moving': 2149, 'addiction': 2150, 'eruption': 2151, 'remedy': 2152, 'feeding': 2153, 'dancefloor': 2154, 'bass': 2155, 'kicking': 2156, 'blazing': 2157, 'kissing': 2158, 'hardcore': 2159, 'juice': 2160, 'news': 2161, 'turning': 2162, 'measure': 2163, 'uhh': 2164, '1x': 2165, 'exactly': 2166, 'yearning': 2167, 'ahhhh': 2168, '2x': 2169, 'songs': 2170, 'sung': 2171, 'thousand': 2172, 'fill': 2173, 'hears': 2174, 'birds': 2175, 'rise': 2176, 'lake': 2177, 'trees': 2178, 'sigh': 2179, 'chime': 2180, 'flies': 2181, 'breeze': 2182, 'brook': 2183, 'trips': 2184, 'lark': 2185, 'learning': 2186, 'blessed': 2187, 'once': 2188, 'dresses': 2189, 'satin': 2190, 'sashes': 2191, 'snowflakes': 2192, 'nose': 2193, 'eyelashes': 2194, 'silver': 2195, 'winters': 2196, 'melt': 2197, 'springs': 2198, 'few': 2199, 'dog': 2200, 'bites': 2201, 'bee': 2202, 'stings': 2203, 'simply': 2204, 'bless': 2205, 'homeland': 2206, 'skinny': 2207, 'silk': 2208, 'taffeta': 2209, 'tailor': 2210, 'card': 2211, 'tiara': 2212, 'versace': 2213, 'promises': 2214, 'dolce': 2215, 'vita': 2216, 'runway': 2217, 'puke': 2218, 'salad': 2219, 'boulangerie': 2220, 'ask': 2221, 'advice': 2222, 'spray': 2223, 'holiday': 2224, 'taipei': 2225, \"shit's\": 2226, \"one's\": 2227, 'sanctuary': 2228, 'blood': 2229, 'ball': 2230, 'sacred': 2231, 'working': 2232, \"everybody's\": 2233, \"throwin'\": 2234, 'sisters': 2235, 'brothers': 2236, 'ago': 2237, 'jungle': 2238, 'dude': 2239, 'lab': 2240, 'prisms': 2241, 'forty': 2242, 'flood': 2243, 'rainbows': 2244, \"they've\": 2245, 'ideas': 2246, 'psychic': 2247, 'guru': 2248, 'catches': 2249, 'minnows': 2250, 'harbor': 2251, 'bought': 2252, 'year': 2253, \"stocking's\": 2254, 'spreading': 2255, 'rode': 2256, 'horses': 2257, 'sticks': 2258, 'seasons': 2259, 'changed': 2260, 'grew': 2261, 'rang': 2262, 'perfume': 2263, 'neck': 2264, 'slip': 2265, 'rinse': 2266, 'curl': 2267, 'loosen': 2268, 'squeeze': 2269, 'tease': 2270}\n"
          ],
          "name": "stdout"
        }
      ]
    },
    {
      "cell_type": "markdown",
      "metadata": {
        "id": "1hh40g6CBrX4"
      },
      "source": [
        "# Training the Model"
      ]
    },
    {
      "cell_type": "code",
      "metadata": {
        "id": "w9vH8Y59ajYL",
        "colab": {
          "base_uri": "https://localhost:8080/"
        },
        "outputId": "8deab3f4-005c-4fb4-d8a9-724c3ce2c99b"
      },
      "source": [
        "model = Sequential()\n",
        "model.add(Embedding(total_words, 100, input_length=max_sequence_len-1))\n",
        "model.add(Bidirectional(LSTM(150)))\n",
        "model.add(Dense(total_words, activation='softmax'))\n",
        "adam = Adam(lr=0.01)\n",
        "model.compile(loss='categorical_crossentropy', optimizer=adam, metrics=['accuracy'])\n",
        "#earlystop = EarlyStopping(monitor='val_loss', min_delta=0, patience=5, verbose=0, mode='auto')\n",
        "history = model.fit(xs, ys, epochs=100, verbose=1)\n",
        "#print model.summary()\n",
        "print(model)\n",
        "\n"
      ],
      "execution_count": 9,
      "outputs": [
        {
          "output_type": "stream",
          "text": [
            "Epoch 1/100\n",
            "828/828 [==============================] - 10s 12ms/step - loss: 4.7145 - accuracy: 0.2400\n",
            "Epoch 2/100\n",
            "828/828 [==============================] - 10s 12ms/step - loss: 2.9427 - accuracy: 0.4549\n",
            "Epoch 3/100\n",
            "828/828 [==============================] - 10s 12ms/step - loss: 2.2899 - accuracy: 0.5307\n",
            "Epoch 4/100\n",
            "828/828 [==============================] - 10s 12ms/step - loss: 1.9163 - accuracy: 0.5830\n",
            "Epoch 5/100\n",
            "828/828 [==============================] - 10s 12ms/step - loss: 1.7144 - accuracy: 0.6129\n",
            "Epoch 6/100\n",
            "828/828 [==============================] - 10s 12ms/step - loss: 1.5531 - accuracy: 0.6350\n",
            "Epoch 7/100\n",
            "828/828 [==============================] - 10s 12ms/step - loss: 1.4476 - accuracy: 0.6559\n",
            "Epoch 8/100\n",
            "828/828 [==============================] - 10s 12ms/step - loss: 1.4075 - accuracy: 0.6633\n",
            "Epoch 9/100\n",
            "828/828 [==============================] - 10s 12ms/step - loss: 1.3873 - accuracy: 0.6627\n",
            "Epoch 10/100\n",
            "828/828 [==============================] - 10s 12ms/step - loss: 1.3195 - accuracy: 0.6774\n",
            "Epoch 11/100\n",
            "828/828 [==============================] - 10s 12ms/step - loss: 1.3903 - accuracy: 0.6633\n",
            "Epoch 12/100\n",
            "828/828 [==============================] - 10s 12ms/step - loss: 1.3159 - accuracy: 0.6786\n",
            "Epoch 13/100\n",
            "828/828 [==============================] - 10s 12ms/step - loss: 1.2272 - accuracy: 0.6921\n",
            "Epoch 14/100\n",
            "828/828 [==============================] - 10s 13ms/step - loss: 1.1784 - accuracy: 0.7049\n",
            "Epoch 15/100\n",
            "828/828 [==============================] - 10s 12ms/step - loss: 1.2208 - accuracy: 0.6926\n",
            "Epoch 16/100\n",
            "828/828 [==============================] - 10s 12ms/step - loss: 1.2593 - accuracy: 0.6837\n",
            "Epoch 17/100\n",
            "828/828 [==============================] - 10s 12ms/step - loss: 1.2158 - accuracy: 0.6950\n",
            "Epoch 18/100\n",
            "828/828 [==============================] - 10s 12ms/step - loss: 1.1654 - accuracy: 0.7063\n",
            "Epoch 19/100\n",
            "828/828 [==============================] - 10s 12ms/step - loss: 1.1487 - accuracy: 0.7098\n",
            "Epoch 20/100\n",
            "828/828 [==============================] - 10s 12ms/step - loss: 1.1899 - accuracy: 0.6988\n",
            "Epoch 21/100\n",
            "828/828 [==============================] - 10s 12ms/step - loss: 1.1855 - accuracy: 0.7046\n",
            "Epoch 22/100\n",
            "828/828 [==============================] - 10s 12ms/step - loss: 1.1839 - accuracy: 0.7040\n",
            "Epoch 23/100\n",
            "828/828 [==============================] - 10s 12ms/step - loss: 1.2062 - accuracy: 0.6973\n",
            "Epoch 24/100\n",
            "828/828 [==============================] - 10s 12ms/step - loss: 1.1535 - accuracy: 0.7067\n",
            "Epoch 25/100\n",
            "828/828 [==============================] - 10s 12ms/step - loss: 1.1709 - accuracy: 0.7065\n",
            "Epoch 26/100\n",
            "828/828 [==============================] - 10s 12ms/step - loss: 1.1378 - accuracy: 0.7113\n",
            "Epoch 27/100\n",
            "828/828 [==============================] - 10s 12ms/step - loss: 1.1453 - accuracy: 0.7109\n",
            "Epoch 28/100\n",
            "828/828 [==============================] - 10s 12ms/step - loss: 1.1518 - accuracy: 0.7124\n",
            "Epoch 29/100\n",
            "828/828 [==============================] - 10s 12ms/step - loss: 1.1166 - accuracy: 0.7171\n",
            "Epoch 30/100\n",
            "828/828 [==============================] - 10s 12ms/step - loss: 1.1274 - accuracy: 0.7163\n",
            "Epoch 31/100\n",
            "828/828 [==============================] - 10s 12ms/step - loss: 1.1035 - accuracy: 0.7204\n",
            "Epoch 32/100\n",
            "828/828 [==============================] - 10s 12ms/step - loss: 1.0643 - accuracy: 0.7293\n",
            "Epoch 33/100\n",
            "828/828 [==============================] - 10s 12ms/step - loss: 1.0807 - accuracy: 0.7211\n",
            "Epoch 34/100\n",
            "828/828 [==============================] - 10s 12ms/step - loss: 1.0719 - accuracy: 0.7255\n",
            "Epoch 35/100\n",
            "828/828 [==============================] - 10s 12ms/step - loss: 1.0657 - accuracy: 0.7258\n",
            "Epoch 36/100\n",
            "828/828 [==============================] - 10s 12ms/step - loss: 1.0412 - accuracy: 0.7329\n",
            "Epoch 37/100\n",
            "828/828 [==============================] - 10s 12ms/step - loss: 1.0327 - accuracy: 0.7349\n",
            "Epoch 38/100\n",
            "828/828 [==============================] - 10s 12ms/step - loss: 1.0564 - accuracy: 0.7278\n",
            "Epoch 39/100\n",
            "828/828 [==============================] - 10s 12ms/step - loss: 1.0900 - accuracy: 0.7230\n",
            "Epoch 40/100\n",
            "828/828 [==============================] - 10s 12ms/step - loss: 1.0545 - accuracy: 0.7320\n",
            "Epoch 41/100\n",
            "828/828 [==============================] - 10s 12ms/step - loss: 1.0339 - accuracy: 0.7353\n",
            "Epoch 42/100\n",
            "828/828 [==============================] - 10s 12ms/step - loss: 1.0681 - accuracy: 0.7273\n",
            "Epoch 43/100\n",
            "828/828 [==============================] - 10s 12ms/step - loss: 1.0779 - accuracy: 0.7271\n",
            "Epoch 44/100\n",
            "828/828 [==============================] - 10s 12ms/step - loss: 1.0855 - accuracy: 0.7233\n",
            "Epoch 45/100\n",
            "828/828 [==============================] - 10s 13ms/step - loss: 1.0665 - accuracy: 0.7304\n",
            "Epoch 46/100\n",
            "828/828 [==============================] - 10s 12ms/step - loss: 1.0574 - accuracy: 0.7304\n",
            "Epoch 47/100\n",
            "828/828 [==============================] - 10s 12ms/step - loss: 1.0186 - accuracy: 0.7408\n",
            "Epoch 48/100\n",
            "828/828 [==============================] - 10s 12ms/step - loss: 1.0527 - accuracy: 0.7328\n",
            "Epoch 49/100\n",
            "828/828 [==============================] - 10s 12ms/step - loss: 1.0630 - accuracy: 0.7322\n",
            "Epoch 50/100\n",
            "828/828 [==============================] - 10s 12ms/step - loss: 1.0491 - accuracy: 0.7314\n",
            "Epoch 51/100\n",
            "828/828 [==============================] - 10s 13ms/step - loss: 1.0570 - accuracy: 0.7350\n",
            "Epoch 52/100\n",
            "828/828 [==============================] - 10s 12ms/step - loss: 1.0272 - accuracy: 0.7369\n",
            "Epoch 53/100\n",
            "828/828 [==============================] - 10s 12ms/step - loss: 1.0510 - accuracy: 0.7307\n",
            "Epoch 54/100\n",
            "828/828 [==============================] - 10s 12ms/step - loss: 1.0619 - accuracy: 0.7283\n",
            "Epoch 55/100\n",
            "828/828 [==============================] - 10s 12ms/step - loss: 1.0468 - accuracy: 0.7296\n",
            "Epoch 56/100\n",
            "828/828 [==============================] - 10s 12ms/step - loss: 1.0359 - accuracy: 0.7325\n",
            "Epoch 57/100\n",
            "828/828 [==============================] - 10s 12ms/step - loss: 1.0285 - accuracy: 0.7351\n",
            "Epoch 58/100\n",
            "828/828 [==============================] - 10s 12ms/step - loss: 1.1195 - accuracy: 0.7192\n",
            "Epoch 59/100\n",
            "828/828 [==============================] - 10s 12ms/step - loss: 1.0721 - accuracy: 0.7284\n",
            "Epoch 60/100\n",
            "828/828 [==============================] - 10s 12ms/step - loss: 1.0484 - accuracy: 0.7349\n",
            "Epoch 61/100\n",
            "828/828 [==============================] - 10s 12ms/step - loss: 1.0180 - accuracy: 0.7418\n",
            "Epoch 62/100\n",
            "828/828 [==============================] - 10s 12ms/step - loss: 1.0254 - accuracy: 0.7397\n",
            "Epoch 63/100\n",
            "828/828 [==============================] - 10s 12ms/step - loss: 1.0320 - accuracy: 0.7387\n",
            "Epoch 64/100\n",
            "828/828 [==============================] - 10s 12ms/step - loss: 1.0165 - accuracy: 0.7393\n",
            "Epoch 65/100\n",
            "828/828 [==============================] - 10s 12ms/step - loss: 1.0210 - accuracy: 0.7383\n",
            "Epoch 66/100\n",
            "828/828 [==============================] - 10s 12ms/step - loss: 1.0164 - accuracy: 0.7409\n",
            "Epoch 67/100\n",
            "828/828 [==============================] - 10s 12ms/step - loss: 0.9967 - accuracy: 0.7452\n",
            "Epoch 68/100\n",
            "828/828 [==============================] - 10s 12ms/step - loss: 0.9727 - accuracy: 0.7501\n",
            "Epoch 69/100\n",
            "828/828 [==============================] - 10s 12ms/step - loss: 0.9823 - accuracy: 0.7488\n",
            "Epoch 70/100\n",
            "828/828 [==============================] - 10s 12ms/step - loss: 0.9897 - accuracy: 0.7464\n",
            "Epoch 71/100\n",
            "828/828 [==============================] - 10s 12ms/step - loss: 1.0146 - accuracy: 0.7432\n",
            "Epoch 72/100\n",
            "828/828 [==============================] - 10s 12ms/step - loss: 1.0440 - accuracy: 0.7365\n",
            "Epoch 73/100\n",
            "828/828 [==============================] - 10s 12ms/step - loss: 0.9944 - accuracy: 0.7494\n",
            "Epoch 74/100\n",
            "828/828 [==============================] - 10s 12ms/step - loss: 0.9493 - accuracy: 0.7563\n",
            "Epoch 75/100\n",
            "828/828 [==============================] - 11s 13ms/step - loss: 0.9797 - accuracy: 0.7474\n",
            "Epoch 76/100\n",
            "828/828 [==============================] - 10s 12ms/step - loss: 1.0003 - accuracy: 0.7460\n",
            "Epoch 77/100\n",
            "828/828 [==============================] - 10s 12ms/step - loss: 1.0051 - accuracy: 0.7436\n",
            "Epoch 78/100\n",
            "828/828 [==============================] - 10s 12ms/step - loss: 1.0136 - accuracy: 0.7460\n",
            "Epoch 79/100\n",
            "828/828 [==============================] - 10s 12ms/step - loss: 1.0080 - accuracy: 0.7441\n",
            "Epoch 80/100\n",
            "828/828 [==============================] - 10s 12ms/step - loss: 1.0019 - accuracy: 0.7451\n",
            "Epoch 81/100\n",
            "828/828 [==============================] - 10s 12ms/step - loss: 1.0523 - accuracy: 0.7373\n",
            "Epoch 82/100\n",
            "828/828 [==============================] - 10s 12ms/step - loss: 1.0250 - accuracy: 0.7415\n",
            "Epoch 83/100\n",
            "828/828 [==============================] - 10s 12ms/step - loss: 0.9821 - accuracy: 0.7504\n",
            "Epoch 84/100\n",
            "828/828 [==============================] - 10s 12ms/step - loss: 0.9795 - accuracy: 0.7505\n",
            "Epoch 85/100\n",
            "828/828 [==============================] - 10s 12ms/step - loss: 0.9679 - accuracy: 0.7528\n",
            "Epoch 86/100\n",
            "828/828 [==============================] - 10s 12ms/step - loss: 0.9646 - accuracy: 0.7544\n",
            "Epoch 87/100\n",
            "828/828 [==============================] - 10s 12ms/step - loss: 0.9755 - accuracy: 0.7524\n",
            "Epoch 88/100\n",
            "828/828 [==============================] - 10s 12ms/step - loss: 0.9712 - accuracy: 0.7552\n",
            "Epoch 89/100\n",
            "828/828 [==============================] - 10s 12ms/step - loss: 0.9695 - accuracy: 0.7551\n",
            "Epoch 90/100\n",
            "828/828 [==============================] - 10s 12ms/step - loss: 0.9675 - accuracy: 0.7533\n",
            "Epoch 91/100\n",
            "828/828 [==============================] - 10s 12ms/step - loss: 0.9661 - accuracy: 0.7554\n",
            "Epoch 92/100\n",
            "828/828 [==============================] - 10s 12ms/step - loss: 0.9630 - accuracy: 0.7536\n",
            "Epoch 93/100\n",
            "828/828 [==============================] - 10s 12ms/step - loss: 0.9899 - accuracy: 0.7508\n",
            "Epoch 94/100\n",
            "828/828 [==============================] - 10s 12ms/step - loss: 1.0026 - accuracy: 0.7467\n",
            "Epoch 95/100\n",
            "828/828 [==============================] - 10s 12ms/step - loss: 0.9566 - accuracy: 0.7559\n",
            "Epoch 96/100\n",
            "828/828 [==============================] - 10s 12ms/step - loss: 0.9401 - accuracy: 0.7576\n",
            "Epoch 97/100\n",
            "828/828 [==============================] - 10s 12ms/step - loss: 0.9704 - accuracy: 0.7547\n",
            "Epoch 98/100\n",
            "828/828 [==============================] - 10s 12ms/step - loss: 1.0337 - accuracy: 0.7436\n",
            "Epoch 99/100\n",
            "828/828 [==============================] - 10s 12ms/step - loss: 0.9851 - accuracy: 0.7517\n",
            "Epoch 100/100\n",
            "828/828 [==============================] - 10s 12ms/step - loss: 0.9701 - accuracy: 0.7514\n",
            "<tensorflow.python.keras.engine.sequential.Sequential object at 0x7f067232b518>\n"
          ],
          "name": "stdout"
        }
      ]
    },
    {
      "cell_type": "code",
      "metadata": {
        "id": "3YXGelKThoTT"
      },
      "source": [
        "import matplotlib.pyplot as plt\n",
        "\n",
        "\n",
        "def plot_graphs(history, string):\n",
        "  plt.plot(history.history[string])\n",
        "  plt.xlabel(\"Epochs\")\n",
        "  plt.ylabel(string)\n",
        "  plt.show()"
      ],
      "execution_count": 10,
      "outputs": []
    },
    {
      "cell_type": "code",
      "metadata": {
        "id": "poeprYK8h-c7",
        "colab": {
          "base_uri": "https://localhost:8080/",
          "height": 279
        },
        "outputId": "0643fa6f-1d04-4be3-9795-3e4e37b25ef9"
      },
      "source": [
        "plot_graphs(history, 'accuracy')\n"
      ],
      "execution_count": 11,
      "outputs": [
        {
          "output_type": "display_data",
          "data": {
            "image/png": "[encoded data removed]",
            "text/plain": [
              "<Figure size 432x288 with 1 Axes>"
            ]
          },
          "metadata": {
            "tags": [],
            "needs_background": "light"
          }
        }
      ]
    },
    {
      "cell_type": "markdown",
      "metadata": {
        "id": "VP6z5rLjBZi7"
      },
      "source": [
        "# Predict next words\n",
        "\n",
        "Now the following function uses the trained model to predict the following word taking as seed the previous ones."
      ]
    },
    {
      "cell_type": "code",
      "metadata": {
        "id": "6Vc6PHgxa6Hm",
        "colab": {
          "base_uri": "https://localhost:8080/"
        },
        "outputId": "d76a99fc-9fec-487b-8ffa-2f7163ddec86"
      },
      "source": [
        "seed_text = \"I don't know what to tell you now\"\n",
        "next_words = 100\n",
        "  \n",
        "for _ in range(next_words):\n",
        "\ttoken_list = tokenizer.texts_to_sequences([seed_text])[0]\n",
        "\ttoken_list = pad_sequences([token_list], maxlen=max_sequence_len-1, padding='pre')\n",
        "\tpredicted = model.predict_classes(token_list, verbose=0)\n",
        "\toutput_word = \"\"\n",
        "\tfor word, index in tokenizer.word_index.items():\n",
        "\t\tif index == predicted:\n",
        "\t\t\toutput_word = word\n",
        "\t\t\tbreak\n",
        "\tseed_text += \" \" + output_word\n",
        "print(seed_text)"
      ],
      "execution_count": 14,
      "outputs": [
        {
          "output_type": "stream",
          "text": [
            "I don't know what to tell you now now i let it in your face i can carry you on my knees and beg you hear me singin' free chorus stop callin' stop callin' control he stunning with two dollars but that's another chapter son of the year i wanna home just change i know i know you know i know you know i know you know that i will please have something the same without the number me told me whatcha got to leave an yeah i'm gon' them gs they be hollerin' stop callin' stop callin' stop callin' anything by how hide the evidence bells got\n"
          ],
          "name": "stdout"
        }
      ]
    },
    {
      "cell_type": "markdown",
      "metadata": {
        "id": "uHtvwp-ha7RH"
      },
      "source": [
        "# Conclusion\n",
        "\n",
        "Did you get a nice result from this training dataset? Why?\n",
        "Take a look inside the dataset and try to see its format, and maybe infer the result meaning.\n",
        "Would it work better with a dataset from a more comple writer (one that don't normally repeat words and beats inside its lyrics)?\n",
        "Try it out with other datasets!"
      ]
    },
    {
      "cell_type": "code",
      "metadata": {
        "id": "LHKns18jbHbz"
      },
      "source": [
        ""
      ],
      "execution_count": null,
      "outputs": []
    }
  ]
}